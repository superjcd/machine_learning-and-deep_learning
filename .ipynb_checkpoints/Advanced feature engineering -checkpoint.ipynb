{
 "cells": [
  {
   "cell_type": "markdown",
   "metadata": {},
   "source": [
    "## Load and prepare data"
   ]
  },
  {
   "cell_type": "code",
   "execution_count": 1,
   "metadata": {
    "collapsed": true
   },
   "outputs": [],
   "source": [
    "import pandas as pd\n",
    "import matplotlib.pyplot as plt\n",
    "%matplotlib inline\n",
    "plt.style.use('seaborn')\n",
    "from scipy.stats import norm, skew\n",
    "import numpy as np\n",
    "import seaborn as sns"
   ]
  },
  {
   "cell_type": "markdown",
   "metadata": {},
   "source": [
    "Load data"
   ]
  },
  {
   "cell_type": "code",
   "execution_count": 2,
   "metadata": {},
   "outputs": [
    {
     "data": {
      "text/plain": [
       "((1460, 81), (1459, 80))"
      ]
     },
     "execution_count": 2,
     "metadata": {},
     "output_type": "execute_result"
    }
   ],
   "source": [
    "import pandas as pd\n",
    "\n",
    "train = pd.read_csv('Data/kaggle_house_train.csv')\n",
    "test = pd.read_csv('Data/kaggle_house_test.csv')\n",
    "\n",
    "train.shape,test.shape#test 上了目标变量salespreice"
   ]
  },
  {
   "cell_type": "markdown",
   "metadata": {},
   "source": [
    "检测oulier,并从原始数据中去除"
   ]
  },
  {
   "cell_type": "code",
   "execution_count": 3,
   "metadata": {},
   "outputs": [
    {
     "data": {
      "text/plain": [
       "<matplotlib.axes._subplots.AxesSubplot at 0x11b835860>"
      ]
     },
     "execution_count": 3,
     "metadata": {},
     "output_type": "execute_result"
    },
    {
     "data": {
      "image/png": "[encoded data removed]",
      "text/plain": [
       "<matplotlib.figure.Figure at 0x1115ece48>"
      ]
     },
     "metadata": {},
     "output_type": "display_data"
    }
   ],
   "source": [
    "sns.distplot(train.SalePrice)"
   ]
  },
  {
   "cell_type": "code",
   "execution_count": 4,
   "metadata": {},
   "outputs": [
    {
     "data": {
      "text/plain": [
       "1.8828757597682129"
      ]
     },
     "execution_count": 4,
     "metadata": {},
     "output_type": "execute_result"
    }
   ],
   "source": [
    "train.SalePrice.skew() #数据向右侧有一定的偏移"
   ]
  },
  {
   "cell_type": "markdown",
   "metadata": {},
   "source": [
    "下面我们将zscore的upper_limit作为一个**hyperparameter**(之后可以进行调节)，我们这里姑且把其设为3，如果目标变量SalesPrice大于upperlimit，将被去掉"
   ]
  },
  {
   "cell_type": "code",
   "execution_count": 5,
   "metadata": {},
   "outputs": [
    {
     "data": {
      "text/plain": [
       "22"
      ]
     },
     "execution_count": 5,
     "metadata": {},
     "output_type": "execute_result"
    }
   ],
   "source": [
    "from scipy.stats import zscore\n",
    "upper_limit = 3.\n",
    "np.sum(abs(zscore(train.SalePrice))>upper_limit)"
   ]
  },
  {
   "cell_type": "code",
   "execution_count": 6,
   "metadata": {},
   "outputs": [
    {
     "data": {
      "text/plain": [
       "1.0016835845982468"
      ]
     },
     "execution_count": 6,
     "metadata": {},
     "output_type": "execute_result"
    }
   ],
   "source": [
    "train.SalePrice[abs(zscore(train.SalePrice))<upper_limit].skew()"
   ]
  },
  {
   "cell_type": "code",
   "execution_count": 7,
   "metadata": {},
   "outputs": [
    {
     "name": "stdout",
     "output_type": "stream",
     "text": [
      "1438\n"
     ]
    }
   ],
   "source": [
    "#这里只能对train数据集进行处理\n",
    "train_y = train.SalePrice[abs(zscore(train.SalePrice))<upper_limit]\n",
    "train_features = train[abs(zscore(train.SalePrice))<upper_limit].drop(['SalePrice'],axis=1)\n",
    "#记录训练数据集的长度\n",
    "train_len = len(train_y)\n",
    "print(train_len)\n",
    "\n",
    "test_features = test"
   ]
  },
  {
   "cell_type": "code",
   "execution_count": 8,
   "metadata": {},
   "outputs": [
    {
     "data": {
      "text/plain": [
       "(2897, 80)"
      ]
     },
     "execution_count": 8,
     "metadata": {},
     "output_type": "execute_result"
    }
   ],
   "source": [
    "features = pd.concat([train_features, test_features]).reset_index(drop=True)\n",
    "features.shape"
   ]
  },
  {
   "cell_type": "markdown",
   "metadata": {},
   "source": [
    "## Deal with NA's"
   ]
  },
  {
   "cell_type": "markdown",
   "metadata": {},
   "source": [
    "先来看一下变量的整体情况："
   ]
  },
  {
   "cell_type": "code",
   "execution_count": 9,
   "metadata": {
    "scrolled": false
   },
   "outputs": [
    {
     "name": "stdout",
     "output_type": "stream",
     "text": [
      "<class 'pandas.core.frame.DataFrame'>\n",
      "RangeIndex: 2897 entries, 0 to 2896\n",
      "Data columns (total 80 columns):\n",
      "Id               2897 non-null int64\n",
      "MSSubClass       2897 non-null int64\n",
      "MSZoning         2893 non-null object\n",
      "LotFrontage      2413 non-null float64\n",
      "LotArea          2897 non-null int64\n",
      "Street           2897 non-null object\n",
      "Alley            198 non-null object\n",
      "LotShape         2897 non-null object\n",
      "LandContour      2897 non-null object\n",
      "Utilities        2895 non-null object\n",
      "LotConfig        2897 non-null object\n",
      "LandSlope        2897 non-null object\n",
      "Neighborhood     2897 non-null object\n",
      "Condition1       2897 non-null object\n",
      "Condition2       2897 non-null object\n",
      "BldgType         2897 non-null object\n",
      "HouseStyle       2897 non-null object\n",
      "OverallQual      2897 non-null int64\n",
      "OverallCond      2897 non-null int64\n",
      "YearBuilt        2897 non-null int64\n",
      "YearRemodAdd     2897 non-null int64\n",
      "RoofStyle        2897 non-null object\n",
      "RoofMatl         2897 non-null object\n",
      "Exterior1st      2896 non-null object\n",
      "Exterior2nd      2896 non-null object\n",
      "MasVnrType       2874 non-null object\n",
      "MasVnrArea       2875 non-null float64\n",
      "ExterQual        2897 non-null object\n",
      "ExterCond        2897 non-null object\n",
      "Foundation       2897 non-null object\n",
      "BsmtQual         2816 non-null object\n",
      "BsmtCond         2815 non-null object\n",
      "BsmtExposure     2815 non-null object\n",
      "BsmtFinType1     2818 non-null object\n",
      "BsmtFinSF1       2896 non-null float64\n",
      "BsmtFinType2     2817 non-null object\n",
      "BsmtFinSF2       2896 non-null float64\n",
      "BsmtUnfSF        2896 non-null float64\n",
      "TotalBsmtSF      2896 non-null float64\n",
      "Heating          2897 non-null object\n",
      "HeatingQC        2897 non-null object\n",
      "CentralAir       2897 non-null object\n",
      "Electrical       2896 non-null object\n",
      "1stFlrSF         2897 non-null int64\n",
      "2ndFlrSF         2897 non-null int64\n",
      "LowQualFinSF     2897 non-null int64\n",
      "GrLivArea        2897 non-null int64\n",
      "BsmtFullBath     2895 non-null float64\n",
      "BsmtHalfBath     2895 non-null float64\n",
      "FullBath         2897 non-null int64\n",
      "HalfBath         2897 non-null int64\n",
      "BedroomAbvGr     2897 non-null int64\n",
      "KitchenAbvGr     2897 non-null int64\n",
      "KitchenQual      2896 non-null object\n",
      "TotRmsAbvGrd     2897 non-null int64\n",
      "Functional       2895 non-null object\n",
      "Fireplaces       2897 non-null int64\n",
      "FireplaceQu      1477 non-null object\n",
      "GarageType       2740 non-null object\n",
      "GarageYrBlt      2738 non-null float64\n",
      "GarageFinish     2738 non-null object\n",
      "GarageCars       2896 non-null float64\n",
      "GarageArea       2896 non-null float64\n",
      "GarageQual       2738 non-null object\n",
      "GarageCond       2738 non-null object\n",
      "PavedDrive       2897 non-null object\n",
      "WoodDeckSF       2897 non-null int64\n",
      "OpenPorchSF      2897 non-null int64\n",
      "EnclosedPorch    2897 non-null int64\n",
      "3SsnPorch        2897 non-null int64\n",
      "ScreenPorch      2897 non-null int64\n",
      "PoolArea         2897 non-null int64\n",
      "PoolQC           9 non-null object\n",
      "Fence            569 non-null object\n",
      "MiscFeature      105 non-null object\n",
      "MiscVal          2897 non-null int64\n",
      "MoSold           2897 non-null int64\n",
      "YrSold           2897 non-null int64\n",
      "SaleType         2896 non-null object\n",
      "SaleCondition    2897 non-null object\n",
      "dtypes: float64(11), int64(26), object(43)\n",
      "memory usage: 1.8+ MB\n"
     ]
    }
   ],
   "source": [
    "features.info()"
   ]
  },
  {
   "cell_type": "code",
   "execution_count": 10,
   "metadata": {},
   "outputs": [
    {
     "data": {
      "text/plain": [
       "float64    11\n",
       "int64      26\n",
       "object     43\n",
       "dtype: int64"
      ]
     },
     "execution_count": 10,
     "metadata": {},
     "output_type": "execute_result"
    }
   ],
   "source": [
    "features.get_dtype_counts()"
   ]
  },
  {
   "cell_type": "markdown",
   "metadata": {},
   "source": [
    "  把本应为字符型的数值型数据转化为字符型"
   ]
  },
  {
   "cell_type": "code",
   "execution_count": 11,
   "metadata": {
    "collapsed": true
   },
   "outputs": [],
   "source": [
    "factors = ['MSSubClass', 'MoSold']\n",
    "\n",
    "for i in factors:\n",
    "    features.update(features[i].astype('str'))"
   ]
  },
  {
   "cell_type": "markdown",
   "metadata": {},
   "source": [
    "  如何处理缺失值，是一个非常困难和麻烦的事情。我这里采用的策略是： \n",
    "  对于字符型数据：\n",
    "  1 直接去掉缺失数大于2000的变量    \n",
    "  2 对缺失数少于10的变量，我们用mode来进行fillna  \n",
    "  3 对个别变量例如Garagr 和 basement我们依据数据的具体情况来进行fillna  \n",
    "  对与数值型数据：  \n",
    "  1 直接去掉缺失数大于2000的变量   \n",
    "  2 对缺失数少于10的变量，我们用mean来进行fillna  \n",
    "  3 对个别变量，如LotFrontage我们几句数据的具体情况进行fillna   "
   ]
  },
  {
   "cell_type": "markdown",
   "metadata": {},
   "source": [
    "查看带有缺失变量的分布状况："
   ]
  },
  {
   "cell_type": "code",
   "execution_count": 12,
   "metadata": {
    "scrolled": true
   },
   "outputs": [
    {
     "name": "stdout",
     "output_type": "stream",
     "text": [
      "               Nas    Dtype\n",
      "PoolQC        2888   object\n",
      "MiscFeature   2792   object\n",
      "Alley         2699   object\n",
      "Fence         2328   object\n",
      "FireplaceQu   1420   object\n",
      "LotFrontage    484  float64\n",
      "GarageFinish   159   object\n",
      "GarageQual     159   object\n",
      "GarageCond     159   object\n",
      "GarageYrBlt    159  float64\n",
      "GarageType     157   object\n",
      "BsmtExposure    82   object\n",
      "BsmtCond        82   object\n",
      "BsmtQual        81   object\n",
      "BsmtFinType2    80   object\n",
      "BsmtFinType1    79   object\n",
      "MasVnrType      23   object\n",
      "MasVnrArea      22  float64\n",
      "MSZoning         4   object\n",
      "BsmtFullBath     2  float64\n",
      "BsmtHalfBath     2  float64\n",
      "Functional       2   object\n",
      "Utilities        2   object\n",
      "GarageArea       1  float64\n",
      "GarageCars       1  float64\n",
      "Electrical       1   object\n",
      "KitchenQual      1   object\n",
      "TotalBsmtSF      1  float64\n",
      "BsmtUnfSF        1  float64\n",
      "BsmtFinSF2       1  float64\n",
      "BsmtFinSF1       1  float64\n",
      "Exterior2nd      1   object\n",
      "Exterior1st      1   object\n",
      "SaleType         1   object\n",
      "There are 34 columns with missing values\n"
     ]
    }
   ],
   "source": [
    "nulls = np.sum(features.isnull(),axis=0)\n",
    "nullcols = nulls[nulls!=0]\n",
    "dtypes = features.dtypes\n",
    "dtypes2 = dtypes[(nulls != 0)]\n",
    "info = pd.concat([nullcols, dtypes2], axis=1).sort_values(by=0, ascending=False)\n",
    "info.columns = ['Nas','Dtype']\n",
    "print(info)\n",
    "print(\"There are\", len(nullcols), \"columns with missing values\")"
   ]
  },
  {
   "cell_type": "code",
   "execution_count": 13,
   "metadata": {
    "collapsed": true
   },
   "outputs": [],
   "source": [
    "Drop_list = ['PoolQC','MiscFeature','Alley','Fence']\n",
    "features=features.drop(Drop_list,axis=1)"
   ]
  },
  {
   "cell_type": "code",
   "execution_count": 14,
   "metadata": {
    "collapsed": true
   },
   "outputs": [],
   "source": [
    "object_cols = features.columns[features.dtypes == 'object']\n",
    "num_cols = features.columns[features.dtypes != 'object']\n",
    "\n",
    "less10 = info[info.Nas<10].index\n",
    "more10 = info[info.Nas>10].index"
   ]
  },
  {
   "cell_type": "markdown",
   "metadata": {},
   "source": [
    " 对缺失数量小于10的数据进行处理："
   ]
  },
  {
   "cell_type": "code",
   "execution_count": 15,
   "metadata": {
    "collapsed": true
   },
   "outputs": [],
   "source": [
    "#字符型\n",
    "for i in object_cols & less10:\n",
    "    features.update(features[i].fillna(features[i].mode()[0]))"
   ]
  },
  {
   "cell_type": "code",
   "execution_count": 16,
   "metadata": {
    "collapsed": true
   },
   "outputs": [],
   "source": [
    "#数值型\n",
    "for i in num_cols & less10:\n",
    "    features.update(features[i].fillna(features[i].mean()))"
   ]
  },
  {
   "cell_type": "markdown",
   "metadata": {},
   "source": [
    "这里面需要注意的是，原始数据里有一个2207年间照的房子，很有可能是error，所以改进一下"
   ]
  },
  {
   "cell_type": "code",
   "execution_count": 17,
   "metadata": {},
   "outputs": [
    {
     "data": {
      "text/html": [
       "<div>\n",
       "<style scoped>\n",
       "    .dataframe tbody tr th:only-of-type {\n",
       "        vertical-align: middle;\n",
       "    }\n",
       "\n",
       "    .dataframe tbody tr th {\n",
       "        vertical-align: top;\n",
       "    }\n",
       "\n",
       "    .dataframe thead th {\n",
       "        text-align: right;\n",
       "    }\n",
       "</style>\n",
       "<table border=\"1\" class=\"dataframe\">\n",
       "  <thead>\n",
       "    <tr style=\"text-align: right;\">\n",
       "      <th></th>\n",
       "      <th>Id</th>\n",
       "      <th>MSSubClass</th>\n",
       "      <th>MSZoning</th>\n",
       "      <th>LotFrontage</th>\n",
       "      <th>LotArea</th>\n",
       "      <th>Street</th>\n",
       "      <th>LotShape</th>\n",
       "      <th>LandContour</th>\n",
       "      <th>Utilities</th>\n",
       "      <th>LotConfig</th>\n",
       "      <th>...</th>\n",
       "      <th>OpenPorchSF</th>\n",
       "      <th>EnclosedPorch</th>\n",
       "      <th>3SsnPorch</th>\n",
       "      <th>ScreenPorch</th>\n",
       "      <th>PoolArea</th>\n",
       "      <th>MiscVal</th>\n",
       "      <th>MoSold</th>\n",
       "      <th>YrSold</th>\n",
       "      <th>SaleType</th>\n",
       "      <th>SaleCondition</th>\n",
       "    </tr>\n",
       "  </thead>\n",
       "  <tbody>\n",
       "    <tr>\n",
       "      <th>2570</th>\n",
       "      <td>2593</td>\n",
       "      <td>20</td>\n",
       "      <td>RL</td>\n",
       "      <td>68.0</td>\n",
       "      <td>8298</td>\n",
       "      <td>Pave</td>\n",
       "      <td>IR1</td>\n",
       "      <td>HLS</td>\n",
       "      <td>AllPub</td>\n",
       "      <td>Inside</td>\n",
       "      <td>...</td>\n",
       "      <td>0</td>\n",
       "      <td>0</td>\n",
       "      <td>0</td>\n",
       "      <td>0</td>\n",
       "      <td>0</td>\n",
       "      <td>0</td>\n",
       "      <td>9</td>\n",
       "      <td>2007</td>\n",
       "      <td>New</td>\n",
       "      <td>Partial</td>\n",
       "    </tr>\n",
       "  </tbody>\n",
       "</table>\n",
       "<p>1 rows × 76 columns</p>\n",
       "</div>"
      ],
      "text/plain": [
       "        Id MSSubClass MSZoning  LotFrontage  LotArea Street LotShape  \\\n",
       "2570  2593         20       RL         68.0     8298   Pave      IR1   \n",
       "\n",
       "     LandContour Utilities LotConfig      ...       OpenPorchSF EnclosedPorch  \\\n",
       "2570         HLS    AllPub    Inside      ...                 0             0   \n",
       "\n",
       "     3SsnPorch ScreenPorch PoolArea MiscVal  MoSold  YrSold  SaleType  \\\n",
       "2570         0           0        0       0       9    2007       New   \n",
       "\n",
       "      SaleCondition  \n",
       "2570        Partial  \n",
       "\n",
       "[1 rows x 76 columns]"
      ]
     },
     "execution_count": 17,
     "metadata": {},
     "output_type": "execute_result"
    }
   ],
   "source": [
    "features[features['GarageYrBlt'] == 2207]"
   ]
  },
  {
   "cell_type": "code",
   "execution_count": 18,
   "metadata": {},
   "outputs": [
    {
     "data": {
      "text/plain": [
       "2007.0"
      ]
     },
     "execution_count": 18,
     "metadata": {},
     "output_type": "execute_result"
    }
   ],
   "source": [
    "features.loc[2570,'GarageYrBlt'] = np.int(2007)\n",
    "features.loc[2570,'GarageYrBlt']"
   ]
  },
  {
   "cell_type": "markdown",
   "metadata": {},
   "source": [
    "一种利用其他变量进行预测缺失值的办法。  \n",
    "1 对于数值型数据，我们采用回归树进行预测  \n",
    "2 对于object数据，我们使用决策树来预测  "
   ]
  },
  {
   "cell_type": "code",
   "execution_count": 19,
   "metadata": {
    "collapsed": true
   },
   "outputs": [],
   "source": [
    "def model_imputer(data,target_col,model):\n",
    "    cols = data.columns\n",
    "    object_cols = data.columns[data.dtypes == 'object']\n",
    "    num_cols = data.columns[data.dtypes != 'object']\n",
    "    nonull_index = data[target_col].notnull()\n",
    "    null_index = data[target_col].isnull()\n",
    "    for col in cols:\n",
    "        if col in num_cols:\n",
    "            data.update(data[col].fillna(data[col].median()))\n",
    "        else:\n",
    "            data.update(data[col].fillna(data[col].mode()[0]))\n",
    "    \n",
    "    train_y = data[target_col][nonull_index]\n",
    "    data = data.drop([target_col],axis=1)\n",
    "    data = pd.get_dummies(data)\n",
    "    train_x = data[nonull_index]\n",
    "    test_x = data[null_index]\n",
    "    fit = model.fit(train_x,train_y)\n",
    "    predictions = fit.predict(test_x)\n",
    "    return predictions\n",
    "    "
   ]
  },
  {
   "cell_type": "code",
   "execution_count": 20,
   "metadata": {},
   "outputs": [
    {
     "data": {
      "text/plain": [
       "Index(['LotFrontage', 'MasVnrArea', 'GarageYrBlt'], dtype='object')"
      ]
     },
     "execution_count": 20,
     "metadata": {},
     "output_type": "execute_result"
    }
   ],
   "source": [
    "more10 = info[info.Nas>10].index\n",
    "num_cols & more10"
   ]
  },
  {
   "cell_type": "code",
   "execution_count": 21,
   "metadata": {},
   "outputs": [
    {
     "data": {
      "text/plain": [
       "True"
      ]
     },
     "execution_count": 21,
     "metadata": {},
     "output_type": "execute_result"
    }
   ],
   "source": [
    "features['LotFrontage'].isnull().any()"
   ]
  },
  {
   "cell_type": "code",
   "execution_count": 22,
   "metadata": {
    "collapsed": true
   },
   "outputs": [],
   "source": [
    "from sklearn.tree import DecisionTreeRegressor\n",
    "col = 'LotFrontage'\n",
    "predictions = model_imputer(data=features.copy(),target_col=col,model=DecisionTreeRegressor())\n",
    "features.loc[features[col].isnull(),col] = predictions\n"
   ]
  },
  {
   "cell_type": "code",
   "execution_count": 23,
   "metadata": {},
   "outputs": [
    {
     "data": {
      "text/plain": [
       "False"
      ]
     },
     "execution_count": 23,
     "metadata": {},
     "output_type": "execute_result"
    }
   ],
   "source": [
    "features['LotFrontage'].isnull().any()"
   ]
  },
  {
   "cell_type": "code",
   "execution_count": 24,
   "metadata": {},
   "outputs": [
    {
     "data": {
      "text/plain": [
       "True"
      ]
     },
     "execution_count": 24,
     "metadata": {},
     "output_type": "execute_result"
    }
   ],
   "source": [
    "features['MasVnrArea'].isnull().any()"
   ]
  },
  {
   "cell_type": "code",
   "execution_count": 25,
   "metadata": {
    "collapsed": true
   },
   "outputs": [],
   "source": [
    "col = 'MasVnrArea'\n",
    "predictions = model_imputer(features.copy(),target_col=col,model=DecisionTreeRegressor())\n",
    "features.loc[features[col].isnull(),col] = predictions"
   ]
  },
  {
   "cell_type": "code",
   "execution_count": 26,
   "metadata": {},
   "outputs": [
    {
     "data": {
      "text/plain": [
       "False"
      ]
     },
     "execution_count": 26,
     "metadata": {},
     "output_type": "execute_result"
    }
   ],
   "source": [
    "features['MasVnrArea'].isnull().any()"
   ]
  },
  {
   "cell_type": "code",
   "execution_count": 27,
   "metadata": {},
   "outputs": [
    {
     "data": {
      "text/plain": [
       "True"
      ]
     },
     "execution_count": 27,
     "metadata": {},
     "output_type": "execute_result"
    }
   ],
   "source": [
    "features['GarageYrBlt'].isnull().any()"
   ]
  },
  {
   "cell_type": "code",
   "execution_count": 28,
   "metadata": {
    "collapsed": true
   },
   "outputs": [],
   "source": [
    "from sklearn.tree import DecisionTreeRegressor\n",
    "col = 'GarageYrBlt'\n",
    "predictions = model_imputer(features.copy(),target_col=col,model=DecisionTreeRegressor())\n",
    "features.loc[features[col].isnull(),col] = predictions"
   ]
  },
  {
   "cell_type": "code",
   "execution_count": 29,
   "metadata": {
    "scrolled": true
   },
   "outputs": [
    {
     "data": {
      "text/plain": [
       "Index(['MasVnrType', 'BsmtQual', 'BsmtCond', 'BsmtExposure', 'BsmtFinType1',\n",
       "       'BsmtFinType2', 'FireplaceQu', 'GarageType', 'GarageFinish',\n",
       "       'GarageQual', 'GarageCond'],\n",
       "      dtype='object')"
      ]
     },
     "execution_count": 29,
     "metadata": {},
     "output_type": "execute_result"
    }
   ],
   "source": [
    "object_cols & more10"
   ]
  },
  {
   "cell_type": "code",
   "execution_count": 30,
   "metadata": {
    "collapsed": true
   },
   "outputs": [],
   "source": [
    "from sklearn.tree import DecisionTreeClassifier\n",
    "\n",
    "for col in object_cols & more10:\n",
    "    predictions = model_imputer(features.copy(),target_col=col,model=DecisionTreeClassifier())\n",
    "    features.loc[features[col].isnull(),col] = predictions\n",
    "    "
   ]
  },
  {
   "cell_type": "code",
   "execution_count": 31,
   "metadata": {},
   "outputs": [
    {
     "data": {
      "text/plain": [
       "TA    2740\n",
       "Fa     121\n",
       "Gd      18\n",
       "Po      15\n",
       "Ex       3\n",
       "Name: GarageCond, dtype: int64"
      ]
     },
     "execution_count": 31,
     "metadata": {},
     "output_type": "execute_result"
    }
   ],
   "source": [
    "features['GarageCond'].value_counts()"
   ]
  },
  {
   "cell_type": "code",
   "execution_count": 32,
   "metadata": {
    "collapsed": true
   },
   "outputs": [],
   "source": [
    "factors = object_cols & more10\n",
    "\n",
    "for i in factors:\n",
    "    features.update(features[i].astype('str'))"
   ]
  },
  {
   "cell_type": "markdown",
   "metadata": {},
   "source": [
    "检查一下其他变量的情况"
   ]
  },
  {
   "cell_type": "code",
   "execution_count": 33,
   "metadata": {
    "collapsed": true
   },
   "outputs": [],
   "source": [
    "na_info = []\n",
    "for col in object_cols & more10:\n",
    "    na_info.append(features[col].isnull().any()) "
   ]
  },
  {
   "cell_type": "code",
   "execution_count": 34,
   "metadata": {},
   "outputs": [
    {
     "data": {
      "text/plain": [
       "[False, False, False, False, False, False, False, False, False, False, False]"
      ]
     },
     "execution_count": 34,
     "metadata": {},
     "output_type": "execute_result"
    }
   ],
   "source": [
    "na_info"
   ]
  },
  {
   "cell_type": "code",
   "execution_count": 35,
   "metadata": {},
   "outputs": [
    {
     "data": {
      "text/plain": [
       "True"
      ]
     },
     "execution_count": 35,
     "metadata": {},
     "output_type": "execute_result"
    }
   ],
   "source": [
    "#现在我们再来check 一下所有数据\n",
    "np.sum(features.notnull().all(axis=0)) == features.shape[1]\n",
    "#所有数据都不存在NA"
   ]
  },
  {
   "cell_type": "code",
   "execution_count": 36,
   "metadata": {
    "scrolled": true
   },
   "outputs": [
    {
     "data": {
      "text/plain": [
       "(2897, 76)"
      ]
     },
     "execution_count": 36,
     "metadata": {},
     "output_type": "execute_result"
    }
   ],
   "source": [
    "features.shape #需要注意的是id在训练时需要去掉，在最后输出结果时又要保留"
   ]
  },
  {
   "cell_type": "markdown",
   "metadata": {},
   "source": [
    "## Skew transformation features"
   ]
  },
  {
   "cell_type": "code",
   "execution_count": 37,
   "metadata": {},
   "outputs": [
    {
     "data": {
      "text/html": [
       "<div>\n",
       "<style scoped>\n",
       "    .dataframe tbody tr th:only-of-type {\n",
       "        vertical-align: middle;\n",
       "    }\n",
       "\n",
       "    .dataframe tbody tr th {\n",
       "        vertical-align: top;\n",
       "    }\n",
       "\n",
       "    .dataframe thead th {\n",
       "        text-align: right;\n",
       "    }\n",
       "</style>\n",
       "<table border=\"1\" class=\"dataframe\">\n",
       "  <thead>\n",
       "    <tr style=\"text-align: right;\">\n",
       "      <th></th>\n",
       "      <th>skew</th>\n",
       "    </tr>\n",
       "  </thead>\n",
       "  <tbody>\n",
       "    <tr>\n",
       "      <th>MiscVal</th>\n",
       "      <td>21.864303</td>\n",
       "    </tr>\n",
       "    <tr>\n",
       "      <th>PoolArea</th>\n",
       "      <td>17.720489</td>\n",
       "    </tr>\n",
       "    <tr>\n",
       "      <th>LotArea</th>\n",
       "      <td>13.081311</td>\n",
       "    </tr>\n",
       "    <tr>\n",
       "      <th>LowQualFinSF</th>\n",
       "      <td>12.368644</td>\n",
       "    </tr>\n",
       "    <tr>\n",
       "      <th>3SsnPorch</th>\n",
       "      <td>11.332155</td>\n",
       "    </tr>\n",
       "    <tr>\n",
       "      <th>KitchenAbvGr</th>\n",
       "      <td>4.283471</td>\n",
       "    </tr>\n",
       "    <tr>\n",
       "      <th>BsmtFinSF2</th>\n",
       "      <td>4.140580</td>\n",
       "    </tr>\n",
       "    <tr>\n",
       "      <th>EnclosedPorch</th>\n",
       "      <td>4.002583</td>\n",
       "    </tr>\n",
       "    <tr>\n",
       "      <th>ScreenPorch</th>\n",
       "      <td>3.955254</td>\n",
       "    </tr>\n",
       "    <tr>\n",
       "      <th>BsmtHalfBath</th>\n",
       "      <td>3.928186</td>\n",
       "    </tr>\n",
       "    <tr>\n",
       "      <th>OpenPorchSF</th>\n",
       "      <td>2.566775</td>\n",
       "    </tr>\n",
       "    <tr>\n",
       "      <th>MasVnrArea</th>\n",
       "      <td>2.562720</td>\n",
       "    </tr>\n",
       "    <tr>\n",
       "      <th>WoodDeckSF</th>\n",
       "      <td>1.862294</td>\n",
       "    </tr>\n",
       "    <tr>\n",
       "      <th>LotFrontage</th>\n",
       "      <td>1.681649</td>\n",
       "    </tr>\n",
       "    <tr>\n",
       "      <th>1stFlrSF</th>\n",
       "      <td>1.463520</td>\n",
       "    </tr>\n",
       "    <tr>\n",
       "      <th>BsmtFinSF1</th>\n",
       "      <td>1.439319</td>\n",
       "    </tr>\n",
       "    <tr>\n",
       "      <th>GrLivArea</th>\n",
       "      <td>1.171961</td>\n",
       "    </tr>\n",
       "    <tr>\n",
       "      <th>TotalBsmtSF</th>\n",
       "      <td>1.131520</td>\n",
       "    </tr>\n",
       "    <tr>\n",
       "      <th>BsmtUnfSF</th>\n",
       "      <td>0.912229</td>\n",
       "    </tr>\n",
       "    <tr>\n",
       "      <th>2ndFlrSF</th>\n",
       "      <td>0.835185</td>\n",
       "    </tr>\n",
       "    <tr>\n",
       "      <th>Fireplaces</th>\n",
       "      <td>0.744685</td>\n",
       "    </tr>\n",
       "    <tr>\n",
       "      <th>TotRmsAbvGrd</th>\n",
       "      <td>0.729656</td>\n",
       "    </tr>\n",
       "    <tr>\n",
       "      <th>HalfBath</th>\n",
       "      <td>0.709834</td>\n",
       "    </tr>\n",
       "    <tr>\n",
       "      <th>BsmtFullBath</th>\n",
       "      <td>0.635989</td>\n",
       "    </tr>\n",
       "    <tr>\n",
       "      <th>OverallCond</th>\n",
       "      <td>0.556386</td>\n",
       "    </tr>\n",
       "    <tr>\n",
       "      <th>BedroomAbvGr</th>\n",
       "      <td>0.337619</td>\n",
       "    </tr>\n",
       "    <tr>\n",
       "      <th>GarageArea</th>\n",
       "      <td>0.230468</td>\n",
       "    </tr>\n",
       "    <tr>\n",
       "      <th>OverallQual</th>\n",
       "      <td>0.155984</td>\n",
       "    </tr>\n",
       "    <tr>\n",
       "      <th>FullBath</th>\n",
       "      <td>0.145478</td>\n",
       "    </tr>\n",
       "    <tr>\n",
       "      <th>YrSold</th>\n",
       "      <td>0.130521</td>\n",
       "    </tr>\n",
       "    <tr>\n",
       "      <th>Id</th>\n",
       "      <td>-0.011168</td>\n",
       "    </tr>\n",
       "    <tr>\n",
       "      <th>GarageCars</th>\n",
       "      <td>-0.219442</td>\n",
       "    </tr>\n",
       "    <tr>\n",
       "      <th>YearRemodAdd</th>\n",
       "      <td>-0.440580</td>\n",
       "    </tr>\n",
       "    <tr>\n",
       "      <th>YearBuilt</th>\n",
       "      <td>-0.590283</td>\n",
       "    </tr>\n",
       "    <tr>\n",
       "      <th>GarageYrBlt</th>\n",
       "      <td>-0.618192</td>\n",
       "    </tr>\n",
       "  </tbody>\n",
       "</table>\n",
       "</div>"
      ],
      "text/plain": [
       "                    skew\n",
       "MiscVal        21.864303\n",
       "PoolArea       17.720489\n",
       "LotArea        13.081311\n",
       "LowQualFinSF   12.368644\n",
       "3SsnPorch      11.332155\n",
       "KitchenAbvGr    4.283471\n",
       "BsmtFinSF2      4.140580\n",
       "EnclosedPorch   4.002583\n",
       "ScreenPorch     3.955254\n",
       "BsmtHalfBath    3.928186\n",
       "OpenPorchSF     2.566775\n",
       "MasVnrArea      2.562720\n",
       "WoodDeckSF      1.862294\n",
       "LotFrontage     1.681649\n",
       "1stFlrSF        1.463520\n",
       "BsmtFinSF1      1.439319\n",
       "GrLivArea       1.171961\n",
       "TotalBsmtSF     1.131520\n",
       "BsmtUnfSF       0.912229\n",
       "2ndFlrSF        0.835185\n",
       "Fireplaces      0.744685\n",
       "TotRmsAbvGrd    0.729656\n",
       "HalfBath        0.709834\n",
       "BsmtFullBath    0.635989\n",
       "OverallCond     0.556386\n",
       "BedroomAbvGr    0.337619\n",
       "GarageArea      0.230468\n",
       "OverallQual     0.155984\n",
       "FullBath        0.145478\n",
       "YrSold          0.130521\n",
       "Id             -0.011168\n",
       "GarageCars     -0.219442\n",
       "YearRemodAdd   -0.440580\n",
       "YearBuilt      -0.590283\n",
       "GarageYrBlt    -0.618192"
      ]
     },
     "execution_count": 37,
     "metadata": {},
     "output_type": "execute_result"
    }
   ],
   "source": [
    "from scipy.stats import skew\n",
    "skew_features = features[num_cols].apply(lambda x: skew(x)).sort_values(ascending=False)\n",
    "skews = pd.DataFrame({'skew':skew_features})\n",
    "skews"
   ]
  },
  {
   "cell_type": "code",
   "execution_count": 38,
   "metadata": {},
   "outputs": [
    {
     "name": "stderr",
     "output_type": "stream",
     "text": [
      "/Users/jiangchaodi/anaconda/lib/python3.6/site-packages/scipy/stats/stats.py:3021: RuntimeWarning: invalid value encountered in double_scalars\n",
      "  r = r_num / r_den\n"
     ]
    },
    {
     "data": {
      "text/html": [
       "<div>\n",
       "<style scoped>\n",
       "    .dataframe tbody tr th:only-of-type {\n",
       "        vertical-align: middle;\n",
       "    }\n",
       "\n",
       "    .dataframe tbody tr th {\n",
       "        vertical-align: top;\n",
       "    }\n",
       "\n",
       "    .dataframe thead th {\n",
       "        text-align: right;\n",
       "    }\n",
       "</style>\n",
       "<table border=\"1\" class=\"dataframe\">\n",
       "  <thead>\n",
       "    <tr style=\"text-align: right;\">\n",
       "      <th></th>\n",
       "      <th>skew</th>\n",
       "    </tr>\n",
       "  </thead>\n",
       "  <tbody>\n",
       "    <tr>\n",
       "      <th>PoolArea</th>\n",
       "      <td>15.545437</td>\n",
       "    </tr>\n",
       "    <tr>\n",
       "      <th>3SsnPorch</th>\n",
       "      <td>8.830990</td>\n",
       "    </tr>\n",
       "    <tr>\n",
       "      <th>LowQualFinSF</th>\n",
       "      <td>8.574193</td>\n",
       "    </tr>\n",
       "    <tr>\n",
       "      <th>MiscVal</th>\n",
       "      <td>5.218826</td>\n",
       "    </tr>\n",
       "    <tr>\n",
       "      <th>BsmtHalfBath</th>\n",
       "      <td>3.767628</td>\n",
       "    </tr>\n",
       "    <tr>\n",
       "      <th>KitchenAbvGr</th>\n",
       "      <td>3.762703</td>\n",
       "    </tr>\n",
       "    <tr>\n",
       "      <th>ScreenPorch</th>\n",
       "      <td>3.168595</td>\n",
       "    </tr>\n",
       "    <tr>\n",
       "      <th>BsmtFinSF2</th>\n",
       "      <td>2.566755</td>\n",
       "    </tr>\n",
       "    <tr>\n",
       "      <th>EnclosedPorch</th>\n",
       "      <td>2.145596</td>\n",
       "    </tr>\n",
       "    <tr>\n",
       "      <th>MasVnrArea</th>\n",
       "      <td>0.983173</td>\n",
       "    </tr>\n",
       "    <tr>\n",
       "      <th>2ndFlrSF</th>\n",
       "      <td>0.893928</td>\n",
       "    </tr>\n",
       "    <tr>\n",
       "      <th>WoodDeckSF</th>\n",
       "      <td>0.789978</td>\n",
       "    </tr>\n",
       "    <tr>\n",
       "      <th>HalfBath</th>\n",
       "      <td>0.744178</td>\n",
       "    </tr>\n",
       "    <tr>\n",
       "      <th>OpenPorchSF</th>\n",
       "      <td>0.626452</td>\n",
       "    </tr>\n",
       "    <tr>\n",
       "      <th>BsmtFullBath</th>\n",
       "      <td>0.626247</td>\n",
       "    </tr>\n",
       "    <tr>\n",
       "      <th>Fireplaces</th>\n",
       "      <td>0.561876</td>\n",
       "    </tr>\n",
       "    <tr>\n",
       "      <th>OverallCond</th>\n",
       "      <td>0.377347</td>\n",
       "    </tr>\n",
       "    <tr>\n",
       "      <th>BsmtFinSF1</th>\n",
       "      <td>0.374914</td>\n",
       "    </tr>\n",
       "    <tr>\n",
       "      <th>TotalBsmtSF</th>\n",
       "      <td>0.366075</td>\n",
       "    </tr>\n",
       "    <tr>\n",
       "      <th>BedroomAbvGr</th>\n",
       "      <td>0.337619</td>\n",
       "    </tr>\n",
       "    <tr>\n",
       "      <th>GarageArea</th>\n",
       "      <td>0.230468</td>\n",
       "    </tr>\n",
       "    <tr>\n",
       "      <th>OverallQual</th>\n",
       "      <td>0.155984</td>\n",
       "    </tr>\n",
       "    <tr>\n",
       "      <th>FullBath</th>\n",
       "      <td>0.145478</td>\n",
       "    </tr>\n",
       "    <tr>\n",
       "      <th>YrSold</th>\n",
       "      <td>0.130521</td>\n",
       "    </tr>\n",
       "    <tr>\n",
       "      <th>BsmtUnfSF</th>\n",
       "      <td>0.053614</td>\n",
       "    </tr>\n",
       "    <tr>\n",
       "      <th>TotRmsAbvGrd</th>\n",
       "      <td>0.046540</td>\n",
       "    </tr>\n",
       "    <tr>\n",
       "      <th>LotFrontage</th>\n",
       "      <td>0.009838</td>\n",
       "    </tr>\n",
       "    <tr>\n",
       "      <th>GrLivArea</th>\n",
       "      <td>0.002638</td>\n",
       "    </tr>\n",
       "    <tr>\n",
       "      <th>Id</th>\n",
       "      <td>-0.011168</td>\n",
       "    </tr>\n",
       "    <tr>\n",
       "      <th>1stFlrSF</th>\n",
       "      <td>-0.015111</td>\n",
       "    </tr>\n",
       "    <tr>\n",
       "      <th>LotArea</th>\n",
       "      <td>-0.142936</td>\n",
       "    </tr>\n",
       "    <tr>\n",
       "      <th>GarageCars</th>\n",
       "      <td>-0.219442</td>\n",
       "    </tr>\n",
       "    <tr>\n",
       "      <th>YearRemodAdd</th>\n",
       "      <td>-0.440580</td>\n",
       "    </tr>\n",
       "    <tr>\n",
       "      <th>YearBuilt</th>\n",
       "      <td>-0.590283</td>\n",
       "    </tr>\n",
       "    <tr>\n",
       "      <th>GarageYrBlt</th>\n",
       "      <td>-0.618192</td>\n",
       "    </tr>\n",
       "  </tbody>\n",
       "</table>\n",
       "</div>"
      ],
      "text/plain": [
       "                    skew\n",
       "PoolArea       15.545437\n",
       "3SsnPorch       8.830990\n",
       "LowQualFinSF    8.574193\n",
       "MiscVal         5.218826\n",
       "BsmtHalfBath    3.767628\n",
       "KitchenAbvGr    3.762703\n",
       "ScreenPorch     3.168595\n",
       "BsmtFinSF2      2.566755\n",
       "EnclosedPorch   2.145596\n",
       "MasVnrArea      0.983173\n",
       "2ndFlrSF        0.893928\n",
       "WoodDeckSF      0.789978\n",
       "HalfBath        0.744178\n",
       "OpenPorchSF     0.626452\n",
       "BsmtFullBath    0.626247\n",
       "Fireplaces      0.561876\n",
       "OverallCond     0.377347\n",
       "BsmtFinSF1      0.374914\n",
       "TotalBsmtSF     0.366075\n",
       "BedroomAbvGr    0.337619\n",
       "GarageArea      0.230468\n",
       "OverallQual     0.155984\n",
       "FullBath        0.145478\n",
       "YrSold          0.130521\n",
       "BsmtUnfSF       0.053614\n",
       "TotRmsAbvGrd    0.046540\n",
       "LotFrontage     0.009838\n",
       "GrLivArea       0.002638\n",
       "Id             -0.011168\n",
       "1stFlrSF       -0.015111\n",
       "LotArea        -0.142936\n",
       "GarageCars     -0.219442\n",
       "YearRemodAdd   -0.440580\n",
       "YearBuilt      -0.590283\n",
       "GarageYrBlt    -0.618192"
      ]
     },
     "execution_count": 38,
     "metadata": {},
     "output_type": "execute_result"
    }
   ],
   "source": [
    "from scipy.special import boxcox1p\n",
    "from scipy.stats import boxcox_normmax\n",
    "\n",
    "high_skew = skew_features[skew_features > 0.5]\n",
    "high_skew = high_skew\n",
    "skew_index = high_skew.index\n",
    "\n",
    "for i in skew_index:\n",
    "    features[i]= boxcox1p(features[i], boxcox_normmax(features[i]+1))\n",
    "\n",
    "        \n",
    "skew_features2 = features[num_cols].apply(lambda x: skew(x)).sort_values(ascending=False)\n",
    "skews2 = pd.DataFrame({'skew':skew_features2})\n",
    "skews2"
   ]
  },
  {
   "cell_type": "code",
   "execution_count": 39,
   "metadata": {},
   "outputs": [
    {
     "data": {
      "text/plain": [
       "<matplotlib.axes._subplots.AxesSubplot at 0x11d2e59e8>"
      ]
     },
     "execution_count": 39,
     "metadata": {},
     "output_type": "execute_result"
    },
    {
     "data": {
      "image/png": "[encoded data removed]",
      "text/plain": [
       "<matplotlib.figure.Figure at 0x11d84f710>"
      ]
     },
     "metadata": {},
     "output_type": "display_data"
    }
   ],
   "source": [
    "features['MiscVal'].hist()"
   ]
  },
  {
   "cell_type": "markdown",
   "metadata": {},
   "source": [
    "针对字符型变量，查看并去除一些数值倾斜比较大的变量，比如莫个类别占比97%以上。"
   ]
  },
  {
   "cell_type": "code",
   "execution_count": 40,
   "metadata": {},
   "outputs": [
    {
     "data": {
      "text/plain": [
       "Neighborhood     25\n",
       "MSSubClass       16\n",
       "Exterior2nd      16\n",
       "Exterior1st      15\n",
       "MoSold           12\n",
       "Condition1        9\n",
       "SaleType          9\n",
       "Condition2        8\n",
       "HouseStyle        8\n",
       "RoofMatl          8\n",
       "Functional        7\n",
       "BsmtFinType2      6\n",
       "RoofStyle         6\n",
       "BsmtFinType1      6\n",
       "SaleCondition     6\n",
       "Heating           6\n",
       "GarageType        6\n",
       "Foundation        6\n",
       "BldgType          5\n",
       "GarageQual        5\n",
       "MSZoning          5\n",
       "ExterCond         5\n",
       "Electrical        5\n",
       "LotConfig         5\n",
       "FireplaceQu       5\n",
       "GarageCond        5\n",
       "HeatingQC         5\n",
       "LotShape          4\n",
       "LandContour       4\n",
       "BsmtCond          4\n",
       "BsmtQual          4\n",
       "BsmtExposure      4\n",
       "KitchenQual       4\n",
       "MasVnrType        4\n",
       "ExterQual         4\n",
       "PavedDrive        3\n",
       "LandSlope         3\n",
       "GarageFinish      3\n",
       "Utilities         2\n",
       "Street            2\n",
       "CentralAir        2\n",
       "dtype: int64"
      ]
     },
     "execution_count": 40,
     "metadata": {},
     "output_type": "execute_result"
    }
   ],
   "source": [
    "sums_features = features[object_cols].apply(lambda x: len(np.unique(x)))\n",
    "sums_features.sort_values(ascending=False)"
   ]
  },
  {
   "cell_type": "markdown",
   "metadata": {},
   "source": [
    "我们来查看一下变量数比较少"
   ]
  },
  {
   "cell_type": "code",
   "execution_count": 42,
   "metadata": {},
   "outputs": [
    {
     "name": "stdout",
     "output_type": "stream",
     "text": [
      "Pave    2885\n",
      "Grvl      12\n",
      "Name: Street, dtype: int64\n",
      "-----\n",
      "AllPub    2896\n",
      "NoSeWa       1\n",
      "Name: Utilities, dtype: int64\n",
      "-----\n",
      "Y    2701\n",
      "N     196\n",
      "Name: CentralAir, dtype: int64\n",
      "-----\n",
      "Y    2619\n",
      "N     216\n",
      "P      62\n",
      "Name: PavedDrive, dtype: int64\n"
     ]
    }
   ],
   "source": [
    "print(features['Street'].value_counts())\n",
    "print('-----')\n",
    "print(features['Utilities'].value_counts())\n",
    "print('-----')\n",
    "print(features['CentralAir'].value_counts())\n",
    "print('-----')\n",
    "print(features['PavedDrive'].value_counts())"
   ]
  },
  {
   "cell_type": "code",
   "execution_count": 43,
   "metadata": {
    "collapsed": true
   },
   "outputs": [],
   "source": [
    "features = features.drop(['Utilities', 'Street'], axis=1)"
   ]
  },
  {
   "cell_type": "code",
   "execution_count": 44,
   "metadata": {},
   "outputs": [
    {
     "data": {
      "text/plain": [
       "(2897, 74)"
      ]
     },
     "execution_count": 44,
     "metadata": {},
     "output_type": "execute_result"
    }
   ],
   "source": [
    "features.shape"
   ]
  },
  {
   "cell_type": "code",
   "execution_count": 45,
   "metadata": {
    "collapsed": true
   },
   "outputs": [],
   "source": [
    "features['Total_sqr_footage'] = (features['BsmtFinSF1'] + features['BsmtFinSF2'] +\n",
    "                                 features['1stFlrSF'] + features['2ndFlrSF'])\n",
    "\n",
    "features['Total_Bathrooms'] = (features['FullBath'] + (0.5*features['HalfBath']) + \n",
    "                               features['BsmtFullBath'] + (0.5*features['BsmtHalfBath']))\n",
    "\n",
    "features['Total_porch_sf'] = (features['OpenPorchSF'] + features['3SsnPorch'] +\n",
    "                              features['EnclosedPorch'] + features['ScreenPorch'] +\n",
    "                             features['WoodDeckSF'])\n",
    "\n",
    "\n",
    "#simplified features\n",
    "features['haspool'] = features['PoolArea'].apply(lambda x: 1 if x > 0 else 0)\n",
    "features['has2ndfloor'] = features['2ndFlrSF'].apply(lambda x: 1 if x > 0 else 0)\n",
    "features['hasgarage'] = features['GarageArea'].apply(lambda x: 1 if x > 0 else 0)\n",
    "features['hasbsmt'] = features['TotalBsmtSF'].apply(lambda x: 1 if x > 0 else 0)\n",
    "features['hasfireplace'] = features['Fireplaces'].apply(lambda x: 1 if x > 0 else 0)"
   ]
  },
  {
   "cell_type": "code",
   "execution_count": 47,
   "metadata": {},
   "outputs": [
    {
     "data": {
      "text/plain": [
       "(2897, 306)"
      ]
     },
     "execution_count": 47,
     "metadata": {},
     "output_type": "execute_result"
    }
   ],
   "source": [
    "final_features = pd.get_dummies(features).reset_index(drop=True)\n",
    "final_features.shape"
   ]
  },
  {
   "cell_type": "markdown",
   "metadata": {},
   "source": [
    "为了减少overfitting的影响，我们设置第二个超参数**dummy_cut**来控制比例过高的变量"
   ]
  },
  {
   "cell_type": "code",
   "execution_count": 66,
   "metadata": {
    "collapsed": true
   },
   "outputs": [],
   "source": [
    "dummy_cut = 0.995\n",
    "overfit = []\n",
    "for i in final_features.columns:\n",
    "    counts = final_features[i].value_counts()  #count 它是降序排列的\n",
    "    first_count = counts.iloc[0]   \n",
    "    if first_count / len(final_features) >dummy_cut:\n",
    "        overfit.append(i)"
   ]
  },
  {
   "cell_type": "code",
   "execution_count": 67,
   "metadata": {
    "scrolled": true
   },
   "outputs": [
    {
     "data": {
      "text/plain": [
       "['PoolArea',\n",
       " 'haspool',\n",
       " 'MSSubClass_150',\n",
       " 'MSSubClass_40',\n",
       " 'LotConfig_FR3',\n",
       " 'Neighborhood_Blueste',\n",
       " 'Condition1_RRNe',\n",
       " 'Condition1_RRNn',\n",
       " 'Condition2_Artery',\n",
       " 'Condition2_Feedr',\n",
       " 'Condition2_PosA',\n",
       " 'Condition2_PosN',\n",
       " 'Condition2_RRAe',\n",
       " 'Condition2_RRAn',\n",
       " 'Condition2_RRNn',\n",
       " 'HouseStyle_2.5Fin',\n",
       " 'RoofStyle_Mansard',\n",
       " 'RoofStyle_Shed',\n",
       " 'RoofMatl_ClyTile',\n",
       " 'RoofMatl_Membran',\n",
       " 'RoofMatl_Metal',\n",
       " 'RoofMatl_Roll',\n",
       " 'RoofMatl_WdShake',\n",
       " 'RoofMatl_WdShngl',\n",
       " 'Exterior1st_AsphShn',\n",
       " 'Exterior1st_BrkComm',\n",
       " 'Exterior1st_CBlock',\n",
       " 'Exterior1st_ImStucc',\n",
       " 'Exterior1st_Stone',\n",
       " 'Exterior2nd_AsphShn',\n",
       " 'Exterior2nd_CBlock',\n",
       " 'Exterior2nd_ImStucc',\n",
       " 'Exterior2nd_Other',\n",
       " 'Exterior2nd_Stone',\n",
       " 'ExterCond_Ex',\n",
       " 'ExterCond_Po',\n",
       " 'Foundation_Stone',\n",
       " 'Foundation_Wood',\n",
       " 'BsmtCond_Po',\n",
       " 'Heating_Floor',\n",
       " 'Heating_Grav',\n",
       " 'Heating_OthW',\n",
       " 'Heating_Wall',\n",
       " 'HeatingQC_Po',\n",
       " 'Electrical_FuseP',\n",
       " 'Electrical_Mix',\n",
       " 'Functional_Maj2',\n",
       " 'Functional_Sev',\n",
       " 'GarageQual_Ex',\n",
       " 'GarageQual_Po',\n",
       " 'GarageCond_Ex',\n",
       " 'SaleType_CWD',\n",
       " 'SaleType_Con',\n",
       " 'SaleType_ConLI',\n",
       " 'SaleType_ConLw',\n",
       " 'SaleType_Oth',\n",
       " 'SaleCondition_AdjLand']"
      ]
     },
     "execution_count": 67,
     "metadata": {},
     "output_type": "execute_result"
    }
   ],
   "source": [
    "overfit"
   ]
  },
  {
   "cell_type": "code",
   "execution_count": 68,
   "metadata": {
    "collapsed": true
   },
   "outputs": [],
   "source": [
    "final_features.drop(overfit,axis=1,inplace=True)"
   ]
  },
  {
   "cell_type": "code",
   "execution_count": 69,
   "metadata": {},
   "outputs": [
    {
     "data": {
      "text/plain": [
       "(2897, 249)"
      ]
     },
     "execution_count": 69,
     "metadata": {},
     "output_type": "execute_result"
    }
   ],
   "source": [
    "final_features.shape"
   ]
  },
  {
   "cell_type": "markdown",
   "metadata": {},
   "source": [
    "这里我们使用train_len来获取最后的train_set"
   ]
  },
  {
   "cell_type": "code",
   "execution_count": 73,
   "metadata": {
    "collapsed": true
   },
   "outputs": [],
   "source": [
    "X = final_features.iloc[:train_len,:]\n",
    "test_X = final_features.iloc[train_len:,:]"
   ]
  },
  {
   "cell_type": "code",
   "execution_count": 74,
   "metadata": {
    "scrolled": true
   },
   "outputs": [
    {
     "data": {
      "text/plain": [
       "((1438, 249), (1459, 249))"
      ]
     },
     "execution_count": 74,
     "metadata": {},
     "output_type": "execute_result"
    }
   ],
   "source": [
    "X.shape,test_X.shape"
   ]
  },
  {
   "cell_type": "code",
   "execution_count": 76,
   "metadata": {},
   "outputs": [
    {
     "data": {
      "text/plain": [
       "(1438,)"
      ]
     },
     "execution_count": 76,
     "metadata": {},
     "output_type": "execute_result"
    }
   ],
   "source": [
    "train_y.shape"
   ]
  },
  {
   "cell_type": "markdown",
   "metadata": {},
   "source": [
    "把数据保存起来"
   ]
  },
  {
   "cell_type": "code",
   "execution_count": 77,
   "metadata": {
    "collapsed": true
   },
   "outputs": [],
   "source": [
    "X.to_csv('./Data/houseprice/X.csv')\n",
    "train_y.to_csv('./Data/houseprice/train_y.csv')\n",
    "test_X.to_csv('./Data/houseprice/test_X.csv')\n"
   ]
  },
  {
   "cell_type": "code",
   "execution_count": null,
   "metadata": {
    "collapsed": true
   },
   "outputs": [],
   "source": []
  }
 ],
 "metadata": {
  "kernelspec": {
   "display_name": "Python 3",
   "language": "python",
   "name": "python3"
  },
  "language_info": {
   "codemirror_mode": {
    "name": "ipython",
    "version": 3
   },
   "file_extension": ".py",
   "mimetype": "text/x-python",
   "name": "python",
   "nbconvert_exporter": "python",
   "pygments_lexer": "ipython3",
   "version": "3.6.1"
  }
 },
 "nbformat": 4,
 "nbformat_minor": 2
}
