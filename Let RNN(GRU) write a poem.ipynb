{
 "cells": [
  {
   "cell_type": "markdown",
   "metadata": {},
   "source": [
    "# Let RNN(GRU) write a poem(海子的诗)"
   ]
  },
  {
   "cell_type": "markdown",
   "metadata": {},
   "source": [
    "在[Gluon教程](http://zh.gluon.ai/chapter_recurrent-neural-networks/rnn-scratch.html)中介绍了如何使用rnn写周杰伦style的词，我觉得很有趣，试着使用这种方式写海子的诗歌。"
   ]
  },
  {
   "cell_type": "markdown",
   "metadata": {},
   "source": [
    "## 1 文本的处理"
   ]
  },
  {
   "cell_type": "code",
   "execution_count": 1,
   "metadata": {},
   "outputs": [
    {
     "name": "stdout",
     "output_type": "stream",
     "text": [
      "vocab size: 1649\n"
     ]
    }
   ],
   "source": [
    "with open('./data/haizi.txt') as f:\n",
    "    corpus_chars = f.read()\n",
    "\n",
    "corpus_chars = corpus_chars.replace('\\n', ' ').replace('\\r', ' ')\n",
    "corpus_chars = corpus_chars[0:20000]\n",
    "\n",
    "idx_to_char = list(set(corpus_chars))\n",
    "char_to_idx = dict([(char, i) for i, char in enumerate(idx_to_char)])\n",
    "corpus_indices = [char_to_idx[char] for char in corpus_chars]\n",
    "\n",
    "vocab_size = len(char_to_idx)\n",
    "print('vocab size:', vocab_size)"
   ]
  },
  {
   "cell_type": "code",
   "execution_count": 2,
   "metadata": {
    "collapsed": true
   },
   "outputs": [],
   "source": [
    "#使用one-hot encoding  \n",
    "def get_inputs(data):\n",
    "    return [nd.one_hot(X, vocab_size) for X in data.T]"
   ]
  },
  {
   "cell_type": "markdown",
   "metadata": {},
   "source": [
    " 原始的RNN有个重要的问题就是，随着序列的前进，模型会渐渐‘忘掉’时间上比较久远的信息，为了保留较为久远的信息，一般会采用门控方法，具体包括GRU和LSTM，这里我们使用GRU。"
   ]
  },
  {
   "cell_type": "markdown",
   "metadata": {},
   "source": [
    "## 2 定义参数\n",
    "   和一般的RNN唯一的不同带门控的RNN，在定义参数时会多定义一个重置们和更新门。"
   ]
  },
  {
   "cell_type": "code",
   "execution_count": 3,
   "metadata": {
    "scrolled": true
   },
   "outputs": [
    {
     "name": "stdout",
     "output_type": "stream",
     "text": [
      "Will use cpu(0)\n"
     ]
    }
   ],
   "source": [
    "#初始化模型参数\n",
    "import mxnet as mx\n",
    "\n",
    "# 尝试使用GPU\n",
    "from mxnet import nd\n",
    "import utils\n",
    "ctx = utils.try_gpu()\n",
    "print('Will use', ctx)\n",
    "\n",
    "input_dim = vocab_size\n",
    "# 隐含状态长度\n",
    "hidden_dim = 256\n",
    "output_dim = vocab_size\n",
    "std = .01\n",
    "\n",
    "def get_params():\n",
    "    # 隐含层\n",
    "    W_xz = nd.random_normal(scale=std, shape=(input_dim, hidden_dim), ctx=ctx)  #更新\n",
    "    W_hz = nd.random_normal(scale=std, shape=(hidden_dim, hidden_dim), ctx=ctx)\n",
    "    b_z = nd.zeros(hidden_dim, ctx=ctx)\n",
    "\n",
    "    W_xr = nd.random_normal(scale=std, shape=(input_dim, hidden_dim), ctx=ctx) #重置\n",
    "    W_hr = nd.random_normal(scale=std, shape=(hidden_dim, hidden_dim), ctx=ctx)\n",
    "    b_r = nd.zeros(hidden_dim, ctx=ctx)\n",
    "\n",
    "    W_xh = nd.random_normal(scale=std, shape=(input_dim, hidden_dim), ctx=ctx)   #候选隐含层，在naive rnn的基础上多乘了个Reset unit\n",
    "    W_hh = nd.random_normal(scale=std, shape=(hidden_dim, hidden_dim), ctx=ctx)\n",
    "    b_h = nd.zeros(hidden_dim, ctx=ctx)\n",
    "\n",
    "    # 输出层\n",
    "    W_hy = nd.random_normal(scale=std, shape=(hidden_dim, output_dim), ctx=ctx)\n",
    "    b_y = nd.zeros(output_dim, ctx=ctx)\n",
    "\n",
    "    params = [W_xz, W_hz, b_z, W_xr, W_hr, b_r, W_xh, W_hh, b_h, W_hy, b_y]\n",
    "    for param in params:\n",
    "        param.attach_grad()\n",
    "    return params"
   ]
  },
  {
   "cell_type": "code",
   "execution_count": 4,
   "metadata": {
    "collapsed": true
   },
   "outputs": [],
   "source": [
    "def gru_rnn(inputs, H, *params):\n",
    "    # inputs: num_steps 个尺寸为 batch_size * vocab_size 矩阵\n",
    "    # H: 尺寸为 batch_size * hidden_dim 矩阵\n",
    "    # outputs: num_steps 个尺寸为 batch_size * vocab_size 矩阵\n",
    "    W_xz, W_hz, b_z, W_xr, W_hr, b_r, W_xh, W_hh, b_h, W_hy, b_y = params\n",
    "    outputs = []\n",
    "    for X in inputs:\n",
    "        Z = nd.sigmoid(nd.dot(X, W_xz) + nd.dot(H, W_hz) + b_z)\n",
    "        R = nd.sigmoid(nd.dot(X, W_xr) + nd.dot(H, W_hr) + b_r)\n",
    "        H_tilda = nd.tanh(nd.dot(X, W_xh) + R * nd.dot(H, W_hh) + b_h)\n",
    "        H = Z * H + (1 - Z) * H_tilda\n",
    "        Y = nd.dot(H, W_hy) + b_y\n",
    "        outputs.append(Y)\n",
    "    return (outputs, H)"
   ]
  },
  {
   "cell_type": "markdown",
   "metadata": {},
   "source": [
    "## 3 具体训练"
   ]
  },
  {
   "cell_type": "markdown",
   "metadata": {},
   "source": [
    "具体的训练方法（train_and_predict_rnn）放在utils.py下。\n",
    "在实际写诗的时候(实际就是预测下一个词,然后不断迭代），需要定义一下开头。"
   ]
  },
  {
   "cell_type": "code",
   "execution_count": 5,
   "metadata": {},
   "outputs": [
    {
     "name": "stdout",
     "output_type": "stream",
     "text": [
      "Epoch 20. Training perplexity 272.715964\n",
      " -  我的  我是我的子  我是我的子  我是我的子  我是我的子  我是我的子  我是我的子  我是我的子  我是我的子  我是我的子  我是我的子  我是我的子  我是我的子  我是我的子  我是我的子  \n",
      " -  你 我的人的  我是我的子  我是我的子  我是我的子  我是我的子  我是我的子  我是我的子  我是我的子  我是我的子  我是我的子  我是我的子  我是我的子  我是我的子  我是我的子  我是我\n",
      " -  雨夜 我的人的  我是我的子  我是我的子  我是我的子  我是我的子  我是我的子  我是我的子  我是我的子  我是我的子  我是我的子  我是我的子  我是我的子  我是我的子  我是我的子  我是我\n",
      "\n",
      "Epoch 40. Training perplexity 147.534489\n",
      " -  我    【【铜】  我们在我的头 在我的头 在我的头 在我的头 在我的头 在我的头 在我的头 在我的头 在我的头 在我的头 在我的头 在我的头 在我的头 在我的头 在我的头 在我的头 在我的头 在我的头\n",
      " -  你    【【铜】  我们在我的头 在我的头 在我的头 在我的头 在我的头 在我的头 在我的头 在我的头 在我的头 在我的头 在我的头 在我的头 在我的头 在我的头 在我的头 在我的头 在我的头 在我的头\n",
      " -  雨夜   【【我的村庄 在我的头 在我的头 在我的头 在我的头 在我的头 在我的头 在我的头 在我的头 在我的头 在我的头 在我的头 在我的头 在我的头 在我的头 在我的头 在我的头 在我的头 在我的头 在\n",
      "\n",
      "Epoch 60. Training perplexity 77.690218\n",
      " -  我    【我的诗人    【我的手     【死亡】  我们在地上 在沙漠上  我们在地上 在赤道上  我们在地上 在赤道上  我们在地上 在赤道上  我们在地上 在赤道上  我们在地上 在赤道上  我\n",
      " -  你    【我的诗人    【我的手     【死亡】  我们在地上 在沙漠上  我们在地上 在赤道上  我们在地上 在赤道上  我们在地上 在赤道上  我们在地上 在赤道上  我们在地上 在赤道上  我\n",
      " -  雨夜 我的头骨 我是一个人 你是一个猿 我是一个猿 我是一个猿 我是一个猿 我是一个猿 我是一个猿 我是一个猿 我是一个猿 我是一个猿 我是一个猿 我是一个猿 我是一个猿 我是一个猿 我是一个猿 我是一个猿\n",
      "\n",
      "Epoch 80. Training perplexity 37.771533\n",
      " -  我    【月光】  在村庄, 亚洲铜    【死亡】  我    【死亡之一)】  我把沉福的爱 我的爱子  我的手骨在我的头 在一起 在门前 在谷之中  我们在地方上  我是你是你 你是你 一切都是你\n",
      " -  你  我走到了人类的尽头 我是在我的头颅 在我的头顶 在伟地上  在我们在地上    【黎明】  在村庄中 在一只只把你们    【黎明】  在村庄中 在一只只把你们    【黎明】  在村庄中 在一只只\n",
      " -  雨夜 我的琴声 我的爱子 我的爱子 我的爱子 我的爱子 我的爱子 我的爱子 我的爱子 我的爱子 我的爱子 我的爱子 我的爱子 我的爱子 我的爱子 我的爱子 我的爱子 我的爱子 我的爱子 我的爱子 我的爱子 \n",
      "\n",
      "Epoch 100. Training perplexity 17.797633\n",
      " -  我  我走到了人类的尽头 也是谁的是黑暗的爪 我是人类的尸子    【太平洋 阳光之中的村庄  我们在妻子中下抱在     【死亡之诗(】  我把你爱人 我是一个火 你是在哪里的中 上叫着    【死亡之\n",
      " -  你 把我独自己和小的 我将你们在河地上    【太阳】  在村庄中 在水中中 在海海中 在海子 在谷睡     【死亡之诗】  我把你爱人 你是你 你们一次 我将愿地方出现在我     【死亡之诗(】  \n",
      " -  雨夜里 泪水之下。    【死亡之诗(】  我把你爱人 我是一个火 你是在哪里的中 上叫着    【死亡之诗(之)】  我所能看见的 洁着的 一只的嘴唇  在沙漠上  在水上  在天上 隐谷之中 在我一只头\n",
      "\n",
      "Epoch 120. Training perplexity 8.750107\n",
      " -  我 愿我告别的少女 在我的身子中 停刻了我的骨骨  我们就要 你们在心球上 我这样冷的头唇  我是空虚的少女 头颅的嘴 泉动了我的头骨 在歌唱的山上     【死亡之诗(之一)】  我把到爱人 在我痛梦的\n",
      " -  你 把我走到你们 你有人 我是一边 来了一个头 一只只头一只火子 我将你的头唇 在我的身子里 象一只高门成 为了一只水子打  我走到了人类的尽头 也有人类的气味－－ 我的腿骨在我的头焰 我是我的头骨 我的\n",
      " -  雨夜里的泪水和露谷    【太平洋的献诗】  我把我爱人 我的儿子 你的儿子 你的儿子 你的儿子 你的儿子 你的儿子 你的儿子 你的儿子 你的儿子 你的儿子 你的儿子 你的儿子 你的儿子 你的儿子 你的儿子\n",
      "\n",
      "Epoch 140. Training perplexity 4.724263\n",
      " -  我 愿到!开我 和我空梦下清 走向他的头唇 在我头一只只人 走了这个头的儿, 无比我空的山顶 我在地方的中岗 人一样的鸟群 今夜给久的骨口 象一只大羊长长成马 走向你们死亡    【麦子】  在麦地上滑着\n",
      " -  你 把我走到你的儿子 如我的人伸 我的爪子 你在何方？  我的头骨 我们一次火把你在地里 你 是人类 你的乳声 在我头顶 隐隐约约出了平常人诞生的故乡 北方的大高原的火 我是赤道和你的女人  我是一根埋昔\n",
      " -  雨夜里的泪水和露谷    【太阳的诗人】  ----给给海子的嘴  头吹在村庄上  在我们头顶中 谁是我 谁在今天的湖泊里里现着鸟刻。我们 在地上，去的马上 在太阳的麦子 在伟大地上的神, 在我走到你的身子\n",
      "\n",
      "Epoch 160. Training perplexity 2.916285\n",
      " -  我 愿着摸开, 春上飞  在山上  人一只只鸟摘走我们的人间! 我爱着这个猿 我将一边埋开 梦见自己 中林的沉光 在七月我总能突然回到荒凉    【月光】  打钟的妈妈里皇着不停 的人们 水下和大火 把自\n",
      " -  你 把我走到你的儿子 我将在暮色的山上 月亮我的嘴唇 我将在草熊上  这只头一人 我将在草下上  这时候我看见了月亮 我的核声仍咽抱在一起 以赤道为轴！ 在太阳的死亡 在伟大地平出现 （上帝在血路上 光明\n",
      " -  雨夜里的泪水和露谷  在四外到来的马 和声笑 我长过了人类尽尽 我不会不见你    【日子】  在麦地上滑的村庄 诗人们在我爱的房房上 象地方的山岗上 人也在今天之上 天上的过兄里 一只两望的一只 最下的风\n",
      "\n",
      "Epoch 180. Training perplexity 1.968748\n",
      " -  我 愿着摸开 我顺着 在黑夜里 在海底  她们会向你 多来的时候 今夜里的嘴 秘自手, 象一头飘 那是黑夜中的人 也是大鸟和一半 是被什么久的溢为 走了印度和西藏 那太黑的乳房  我爱过的热糊。 是谁石和\n",
      " -  你 把我独自度过 在一只大大地上抱着 阳光打在地上 阳光是结默人 自度之前  我们在残睡下 你不要说得    【日子】  这就是我张开手指所要叙述的故事 那时候我的嘴 在一无秋人 两个头开一样 你从夜晚后\n",
      " -  雨夜全无闪明天空 这是千年*女的女神星望长着血。 坐在这野间的过条和被运女的。。？免住 正在老人们 在自己上传的道上 让我最后 富别人类生体  我走到了人类的尽头 也有人类的气味－－ 我还爱着：一人都源于爱\n",
      "\n",
      "Epoch 200. Training perplexity 1.531369\n",
      " -  我 愿到! 我把说 在夜里死去  我请求在早上 你碰见 埋我的人  岁月的尘埃无边 秋天 我请求: 下一场雨 以洗一的头 我是空中 带带始的时间的犁 就头长着    【死亡之诗(之一)】  我所能 摸水的\n",
      " -  你 把我独自走向你要的双双    【日光】  姐姐, 今夜我在德令哈, 夜色笼罩 姐姐, 我今夜 并死去的身上飞动 破物带着小野  太阳的血污 在我手能带停顿    【春天】  打在  在山上 别清笔在大\n",
      " -  雨夜全是粮着的天空 我是赤道的赤道 太阳 这样说--我们横日的故乡  我的事地 我们停成为一切 埋着不响开！ 我的土地之上 从野开、幻菜的 庄亲一只 于你们的身子  雨地的小村庄又小又贫的嘴唇 就是那一万,\n",
      "\n"
     ]
    }
   ],
   "source": [
    "seq1 = '我'\n",
    "seq2 = '你'\n",
    "seq3 = '雨夜'\n",
    "seqs = [seq1, seq2, seq3]\n",
    "\n",
    "utils.train_and_predict_rnn(rnn=gru_rnn, is_random_iter=False, epochs=200,\n",
    "                            num_steps=35, hidden_dim=hidden_dim,\n",
    "                            learning_rate=0.2, clipping_norm=5,\n",
    "                            batch_size=32, pred_period=20, pred_len=100,\n",
    "                            seqs=seqs, get_params=get_params,\n",
    "                            get_inputs=get_inputs, ctx=ctx,\n",
    "                            corpus_indices=corpus_indices,\n",
    "                            idx_to_char=idx_to_char, char_to_idx=char_to_idx)"
   ]
  },
  {
   "cell_type": "code",
   "execution_count": null,
   "metadata": {
    "collapsed": true
   },
   "outputs": [],
   "source": []
  }
 ],
 "metadata": {
  "kernelspec": {
   "display_name": "Python 3",
   "language": "python",
   "name": "python3"
  },
  "language_info": {
   "codemirror_mode": {
    "name": "ipython",
    "version": 3
   },
   "file_extension": ".py",
   "mimetype": "text/x-python",
   "name": "python",
   "nbconvert_exporter": "python",
   "pygments_lexer": "ipython3",
   "version": "3.6.1"
  }
 },
 "nbformat": 4,
 "nbformat_minor": 2
}
