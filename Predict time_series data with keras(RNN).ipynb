{
 "cells": [
  {
   "cell_type": "markdown",
   "metadata": {},
   "source": [
    "## 1 Motivation"
   ]
  },
  {
   "cell_type": "markdown",
   "metadata": {},
   "source": [
    "  著名的神经网络API--Kears包的作者Frrancios Chollet在他的书籍<deep learning with python>的第6章第三节\n",
    "介绍了RNN（循环神经网络）在预测气象数据上的应用，非常有趣。既然，可以利用神经网络预测气象数据，为什么不试试rnn在\n",
    "预测其他的时间序列数据上的表现呢，比如股票或股票市场指数。这里我尝试在原书内容的基础上，使用keras的rnn预测\n",
    "iex（老实说我也不知道它具体是某一个股票的价格指数还是类似道琼斯之类的一般性指数，whatever不影响工作）的下一时刻的指数（开市指数）。\n"
   ]
  },
  {
   "cell_type": "markdown",
   "metadata": {},
   "source": [
    "## 2 数据准备\n",
    "  我们直接从pandas_datareader中获取2年左右的指数数据。"
   ]
  },
  {
   "cell_type": "code",
   "execution_count": 1,
   "metadata": {},
   "outputs": [
    {
     "name": "stdout",
     "output_type": "stream",
     "text": [
      "5y\n"
     ]
    }
   ],
   "source": [
    "import pandas_datareader.data as pdr\n",
    "import datetime\n",
    "import numpy as np\n",
    "start = datetime.datetime(2015, 2, 9)\n",
    "end = datetime.datetime(2017, 5, 24)\n",
    "\n",
    "f = pdr.DataReader('F', 'iex', start, end) #iex data"
   ]
  },
  {
   "cell_type": "code",
   "execution_count": 2,
   "metadata": {
    "scrolled": true
   },
   "outputs": [
    {
     "data": {
      "text/plain": [
       "(578, 5)"
      ]
     },
     "execution_count": 2,
     "metadata": {},
     "output_type": "execute_result"
    }
   ],
   "source": [
    "f.shape"
   ]
  },
  {
   "cell_type": "markdown",
   "metadata": {},
   "source": [
    "  这个数据和一般的股价信息一样，包含了时间（按日）、开市闭市交易量等信息。"
   ]
  },
  {
   "cell_type": "code",
   "execution_count": 3,
   "metadata": {
    "scrolled": true
   },
   "outputs": [
    {
     "data": {
      "text/html": [
       "<div>\n",
       "<style scoped>\n",
       "    .dataframe tbody tr th:only-of-type {\n",
       "        vertical-align: middle;\n",
       "    }\n",
       "\n",
       "    .dataframe tbody tr th {\n",
       "        vertical-align: top;\n",
       "    }\n",
       "\n",
       "    .dataframe thead th {\n",
       "        text-align: right;\n",
       "    }\n",
       "</style>\n",
       "<table border=\"1\" class=\"dataframe\">\n",
       "  <thead>\n",
       "    <tr style=\"text-align: right;\">\n",
       "      <th></th>\n",
       "      <th>open</th>\n",
       "      <th>high</th>\n",
       "      <th>low</th>\n",
       "      <th>close</th>\n",
       "      <th>volume</th>\n",
       "    </tr>\n",
       "    <tr>\n",
       "      <th>date</th>\n",
       "      <th></th>\n",
       "      <th></th>\n",
       "      <th></th>\n",
       "      <th></th>\n",
       "      <th></th>\n",
       "    </tr>\n",
       "  </thead>\n",
       "  <tbody>\n",
       "    <tr>\n",
       "      <th>2015-02-09</th>\n",
       "      <td>13.2238</td>\n",
       "      <td>13.4504</td>\n",
       "      <td>13.1903</td>\n",
       "      <td>13.3581</td>\n",
       "      <td>20286720</td>\n",
       "    </tr>\n",
       "    <tr>\n",
       "      <th>2015-02-10</th>\n",
       "      <td>13.4672</td>\n",
       "      <td>13.5427</td>\n",
       "      <td>13.3497</td>\n",
       "      <td>13.5007</td>\n",
       "      <td>27928530</td>\n",
       "    </tr>\n",
       "    <tr>\n",
       "      <th>2015-02-11</th>\n",
       "      <td>13.4923</td>\n",
       "      <td>13.6853</td>\n",
       "      <td>13.4336</td>\n",
       "      <td>13.6350</td>\n",
       "      <td>34285331</td>\n",
       "    </tr>\n",
       "    <tr>\n",
       "      <th>2015-02-12</th>\n",
       "      <td>13.7105</td>\n",
       "      <td>13.8028</td>\n",
       "      <td>13.6769</td>\n",
       "      <td>13.7273</td>\n",
       "      <td>23738806</td>\n",
       "    </tr>\n",
       "    <tr>\n",
       "      <th>2015-02-13</th>\n",
       "      <td>13.7021</td>\n",
       "      <td>13.7273</td>\n",
       "      <td>13.5846</td>\n",
       "      <td>13.6769</td>\n",
       "      <td>19954568</td>\n",
       "    </tr>\n",
       "    <tr>\n",
       "      <th>2015-02-17</th>\n",
       "      <td>13.6014</td>\n",
       "      <td>13.6769</td>\n",
       "      <td>13.4252</td>\n",
       "      <td>13.5175</td>\n",
       "      <td>44362323</td>\n",
       "    </tr>\n",
       "    <tr>\n",
       "      <th>2015-02-18</th>\n",
       "      <td>13.5595</td>\n",
       "      <td>13.7021</td>\n",
       "      <td>13.4756</td>\n",
       "      <td>13.6014</td>\n",
       "      <td>22812702</td>\n",
       "    </tr>\n",
       "    <tr>\n",
       "      <th>2015-02-19</th>\n",
       "      <td>13.5846</td>\n",
       "      <td>13.8280</td>\n",
       "      <td>13.5679</td>\n",
       "      <td>13.7860</td>\n",
       "      <td>24863932</td>\n",
       "    </tr>\n",
       "    <tr>\n",
       "      <th>2015-02-20</th>\n",
       "      <td>13.7525</td>\n",
       "      <td>13.8112</td>\n",
       "      <td>13.6350</td>\n",
       "      <td>13.7608</td>\n",
       "      <td>21523627</td>\n",
       "    </tr>\n",
       "    <tr>\n",
       "      <th>2015-02-23</th>\n",
       "      <td>13.7021</td>\n",
       "      <td>13.8028</td>\n",
       "      <td>13.6685</td>\n",
       "      <td>13.7441</td>\n",
       "      <td>19016756</td>\n",
       "    </tr>\n",
       "    <tr>\n",
       "      <th>2015-02-24</th>\n",
       "      <td>13.7273</td>\n",
       "      <td>13.7776</td>\n",
       "      <td>13.6602</td>\n",
       "      <td>13.7273</td>\n",
       "      <td>17672510</td>\n",
       "    </tr>\n",
       "    <tr>\n",
       "      <th>2015-02-25</th>\n",
       "      <td>13.7105</td>\n",
       "      <td>13.9454</td>\n",
       "      <td>13.7105</td>\n",
       "      <td>13.8531</td>\n",
       "      <td>23320169</td>\n",
       "    </tr>\n",
       "    <tr>\n",
       "      <th>2015-02-26</th>\n",
       "      <td>13.7608</td>\n",
       "      <td>13.9035</td>\n",
       "      <td>13.7357</td>\n",
       "      <td>13.7441</td>\n",
       "      <td>20799991</td>\n",
       "    </tr>\n",
       "    <tr>\n",
       "      <th>2015-02-27</th>\n",
       "      <td>13.7441</td>\n",
       "      <td>13.7608</td>\n",
       "      <td>13.6098</td>\n",
       "      <td>13.7105</td>\n",
       "      <td>20336962</td>\n",
       "    </tr>\n",
       "    <tr>\n",
       "      <th>2015-03-02</th>\n",
       "      <td>13.7692</td>\n",
       "      <td>13.9203</td>\n",
       "      <td>13.7650</td>\n",
       "      <td>13.9035</td>\n",
       "      <td>26341113</td>\n",
       "    </tr>\n",
       "    <tr>\n",
       "      <th>2015-03-03</th>\n",
       "      <td>13.4840</td>\n",
       "      <td>13.6769</td>\n",
       "      <td>13.4756</td>\n",
       "      <td>13.5679</td>\n",
       "      <td>37688950</td>\n",
       "    </tr>\n",
       "    <tr>\n",
       "      <th>2015-03-04</th>\n",
       "      <td>13.5007</td>\n",
       "      <td>13.5427</td>\n",
       "      <td>13.3665</td>\n",
       "      <td>13.4504</td>\n",
       "      <td>25659401</td>\n",
       "    </tr>\n",
       "    <tr>\n",
       "      <th>2015-03-05</th>\n",
       "      <td>13.5007</td>\n",
       "      <td>13.6182</td>\n",
       "      <td>13.5007</td>\n",
       "      <td>13.5175</td>\n",
       "      <td>16548157</td>\n",
       "    </tr>\n",
       "    <tr>\n",
       "      <th>2015-03-06</th>\n",
       "      <td>13.4588</td>\n",
       "      <td>13.5930</td>\n",
       "      <td>13.3497</td>\n",
       "      <td>13.3665</td>\n",
       "      <td>24420536</td>\n",
       "    </tr>\n",
       "    <tr>\n",
       "      <th>2015-03-09</th>\n",
       "      <td>13.4084</td>\n",
       "      <td>13.5091</td>\n",
       "      <td>13.3665</td>\n",
       "      <td>13.4504</td>\n",
       "      <td>17132373</td>\n",
       "    </tr>\n",
       "  </tbody>\n",
       "</table>\n",
       "</div>"
      ],
      "text/plain": [
       "               open     high      low    close    volume\n",
       "date                                                    \n",
       "2015-02-09  13.2238  13.4504  13.1903  13.3581  20286720\n",
       "2015-02-10  13.4672  13.5427  13.3497  13.5007  27928530\n",
       "2015-02-11  13.4923  13.6853  13.4336  13.6350  34285331\n",
       "2015-02-12  13.7105  13.8028  13.6769  13.7273  23738806\n",
       "2015-02-13  13.7021  13.7273  13.5846  13.6769  19954568\n",
       "2015-02-17  13.6014  13.6769  13.4252  13.5175  44362323\n",
       "2015-02-18  13.5595  13.7021  13.4756  13.6014  22812702\n",
       "2015-02-19  13.5846  13.8280  13.5679  13.7860  24863932\n",
       "2015-02-20  13.7525  13.8112  13.6350  13.7608  21523627\n",
       "2015-02-23  13.7021  13.8028  13.6685  13.7441  19016756\n",
       "2015-02-24  13.7273  13.7776  13.6602  13.7273  17672510\n",
       "2015-02-25  13.7105  13.9454  13.7105  13.8531  23320169\n",
       "2015-02-26  13.7608  13.9035  13.7357  13.7441  20799991\n",
       "2015-02-27  13.7441  13.7608  13.6098  13.7105  20336962\n",
       "2015-03-02  13.7692  13.9203  13.7650  13.9035  26341113\n",
       "2015-03-03  13.4840  13.6769  13.4756  13.5679  37688950\n",
       "2015-03-04  13.5007  13.5427  13.3665  13.4504  25659401\n",
       "2015-03-05  13.5007  13.6182  13.5007  13.5175  16548157\n",
       "2015-03-06  13.4588  13.5930  13.3497  13.3665  24420536\n",
       "2015-03-09  13.4084  13.5091  13.3665  13.4504  17132373"
      ]
     },
     "execution_count": 3,
     "metadata": {},
     "output_type": "execute_result"
    }
   ],
   "source": [
    "f.head(20)"
   ]
  },
  {
   "cell_type": "code",
   "execution_count": 4,
   "metadata": {},
   "outputs": [
    {
     "data": {
      "text/html": [
       "<div>\n",
       "<style scoped>\n",
       "    .dataframe tbody tr th:only-of-type {\n",
       "        vertical-align: middle;\n",
       "    }\n",
       "\n",
       "    .dataframe tbody tr th {\n",
       "        vertical-align: top;\n",
       "    }\n",
       "\n",
       "    .dataframe thead th {\n",
       "        text-align: right;\n",
       "    }\n",
       "</style>\n",
       "<table border=\"1\" class=\"dataframe\">\n",
       "  <thead>\n",
       "    <tr style=\"text-align: right;\">\n",
       "      <th></th>\n",
       "      <th>open</th>\n",
       "      <th>high</th>\n",
       "      <th>low</th>\n",
       "      <th>close</th>\n",
       "      <th>volume</th>\n",
       "    </tr>\n",
       "  </thead>\n",
       "  <tbody>\n",
       "    <tr>\n",
       "      <th>count</th>\n",
       "      <td>578.000000</td>\n",
       "      <td>578.000000</td>\n",
       "      <td>578.000000</td>\n",
       "      <td>578.000000</td>\n",
       "      <td>5.780000e+02</td>\n",
       "    </tr>\n",
       "    <tr>\n",
       "      <th>mean</th>\n",
       "      <td>11.923831</td>\n",
       "      <td>12.024981</td>\n",
       "      <td>11.801303</td>\n",
       "      <td>11.914646</td>\n",
       "      <td>3.320855e+07</td>\n",
       "    </tr>\n",
       "    <tr>\n",
       "      <th>std</th>\n",
       "      <td>0.896504</td>\n",
       "      <td>0.894503</td>\n",
       "      <td>0.915751</td>\n",
       "      <td>0.901509</td>\n",
       "      <td>1.510665e+07</td>\n",
       "    </tr>\n",
       "    <tr>\n",
       "      <th>min</th>\n",
       "      <td>9.977800</td>\n",
       "      <td>10.210100</td>\n",
       "      <td>8.932900</td>\n",
       "      <td>9.977800</td>\n",
       "      <td>7.760586e+06</td>\n",
       "    </tr>\n",
       "    <tr>\n",
       "      <th>25%</th>\n",
       "      <td>11.244450</td>\n",
       "      <td>11.315050</td>\n",
       "      <td>11.096400</td>\n",
       "      <td>11.214625</td>\n",
       "      <td>2.344138e+07</td>\n",
       "    </tr>\n",
       "    <tr>\n",
       "      <th>50%</th>\n",
       "      <td>11.858000</td>\n",
       "      <td>11.940250</td>\n",
       "      <td>11.740700</td>\n",
       "      <td>11.846900</td>\n",
       "      <td>2.924790e+07</td>\n",
       "    </tr>\n",
       "    <tr>\n",
       "      <th>75%</th>\n",
       "      <td>12.567600</td>\n",
       "      <td>12.668975</td>\n",
       "      <td>12.460600</td>\n",
       "      <td>12.576300</td>\n",
       "      <td>3.869472e+07</td>\n",
       "    </tr>\n",
       "    <tr>\n",
       "      <th>max</th>\n",
       "      <td>13.911900</td>\n",
       "      <td>14.046100</td>\n",
       "      <td>13.819600</td>\n",
       "      <td>13.903500</td>\n",
       "      <td>1.421686e+08</td>\n",
       "    </tr>\n",
       "  </tbody>\n",
       "</table>\n",
       "</div>"
      ],
      "text/plain": [
       "             open        high         low       close        volume\n",
       "count  578.000000  578.000000  578.000000  578.000000  5.780000e+02\n",
       "mean    11.923831   12.024981   11.801303   11.914646  3.320855e+07\n",
       "std      0.896504    0.894503    0.915751    0.901509  1.510665e+07\n",
       "min      9.977800   10.210100    8.932900    9.977800  7.760586e+06\n",
       "25%     11.244450   11.315050   11.096400   11.214625  2.344138e+07\n",
       "50%     11.858000   11.940250   11.740700   11.846900  2.924790e+07\n",
       "75%     12.567600   12.668975   12.460600   12.576300  3.869472e+07\n",
       "max     13.911900   14.046100   13.819600   13.903500  1.421686e+08"
      ]
     },
     "execution_count": 4,
     "metadata": {},
     "output_type": "execute_result"
    }
   ],
   "source": [
    "f.describe()"
   ]
  },
  {
   "cell_type": "markdown",
   "metadata": {},
   "source": [
    "对数据进行标准化处理\n"
   ]
  },
  {
   "cell_type": "code",
   "execution_count": 5,
   "metadata": {
    "collapsed": true
   },
   "outputs": [],
   "source": [
    "#把数据转化成numpy array\n",
    "time_data = f.as_matrix()\n",
    "\n",
    "mean_data = time_data[:300].mean(axis=0)\n",
    "sd_data = time_data[:300].std(axis=0)\n",
    "\n",
    "time_data-= mean_data\n",
    "time_data/= sd_data"
   ]
  },
  {
   "cell_type": "markdown",
   "metadata": {},
   "source": [
    "定义一个batch data 生成器："
   ]
  },
  {
   "cell_type": "code",
   "execution_count": 6,
   "metadata": {
    "collapsed": true
   },
   "outputs": [],
   "source": [
    "def generator(data, lookback, delay, min_index, max_index,\n",
    "              shuffle=False, batch_size=12, step=1):\n",
    "    if max_index is None:\n",
    "        max_index = len(data) - delay - 1\n",
    "    i = min_index + lookback\n",
    "    while 1:\n",
    "        if shuffle:\n",
    "            rows = np.random.randint(\n",
    "                min_index + lookback, max_index, size=batch_size)\n",
    "        else:\n",
    "            if i + batch_size >= max_index:\n",
    "                i = min_index + lookback\n",
    "            rows = np.arange(i, min(i + batch_size, max_index))\n",
    "            i += len(rows)\n",
    "\n",
    "        samples = np.zeros((len(rows),\n",
    "                           lookback // step,\n",
    "                           data.shape[-1]))\n",
    "        targets = np.zeros((len(rows),))\n",
    "        for j, row in enumerate(rows):\n",
    "            indices = range(rows[j] - lookback, rows[j], step)\n",
    "            samples[j] = data[indices]\n",
    "            targets[j] = data[rows[j] + delay][0] #预测开始时间\n",
    "        yield samples, targets"
   ]
  },
  {
   "cell_type": "markdown",
   "metadata": {},
   "source": [
    "## 3 训练模型（1）--基线和一般MLP模型\n",
    "  设定训练参数，以及通过刚才的生成器生成相应的训练，测试数据集"
   ]
  },
  {
   "cell_type": "code",
   "execution_count": 7,
   "metadata": {
    "collapsed": true
   },
   "outputs": [],
   "source": [
    "\n",
    "float_data = time_data\n",
    "lookback = 14 #two weeks to look back\n",
    "step = 1  #every day\n",
    "delay = 1 #one day later\n",
    "batch_size = 10\n",
    "\n",
    "train_gen = generator(float_data,\n",
    "                      lookback=lookback,\n",
    "                      delay=delay,\n",
    "                      min_index=0,\n",
    "                      max_index=300,\n",
    "                      shuffle=True,\n",
    "                      step=step, \n",
    "                      batch_size=batch_size)\n",
    "val_gen = generator(float_data,\n",
    "                    lookback=lookback,\n",
    "                    delay=delay,\n",
    "                    min_index=301,\n",
    "                    max_index=450,\n",
    "                    step=step,\n",
    "                    batch_size=batch_size)\n",
    "test_gen = generator(float_data,\n",
    "                     lookback=lookback,\n",
    "                     delay=delay,\n",
    "                     min_index=451,\n",
    "                     max_index=None,\n",
    "                     step=step,\n",
    "                     batch_size=batch_size)\n",
    "\n",
    "# This is how many steps to draw from `val_gen`\n",
    "# in order to see the whole validation set:\n",
    "val_steps = (450 - 301 - lookback) // batch_size\n",
    "\n",
    "# This is how many steps to draw from `test_gen`\n",
    "# in order to see the whole test set:\n",
    "test_steps = (len(float_data) - 451 - lookback) // batch_size"
   ]
  },
  {
   "cell_type": "markdown",
   "metadata": {},
   "source": [
    "设定一个baseline，这个baseline假定下一个时刻的数据和当前时刻相同"
   ]
  },
  {
   "cell_type": "code",
   "execution_count": 8,
   "metadata": {},
   "outputs": [
    {
     "name": "stdout",
     "output_type": "stream",
     "text": [
      "0.17493463958816186\n"
     ]
    }
   ],
   "source": [
    "#naive estimator\n",
    "def evaluate_naive_method():\n",
    "    batch_maes = []\n",
    "    for step in range(val_steps):\n",
    "        samples, targets = next(val_gen)  #next 不断调用下个时刻的数据\n",
    "        preds = samples[:, -1, 0]\n",
    "        mae = np.mean(np.abs(preds - targets))\n",
    "        batch_maes.append(mae)\n",
    "    print(np.mean(batch_maes))\n",
    "    \n",
    "evaluate_naive_method()\n",
    "#可以啊看到这个baseline的误差在0.175左右"
   ]
  },
  {
   "cell_type": "markdown",
   "metadata": {},
   "source": [
    "  使用由普通的full connected dense layor的MLP来进拟合："
   ]
  },
  {
   "cell_type": "code",
   "execution_count": 9,
   "metadata": {
    "scrolled": true
   },
   "outputs": [
    {
     "name": "stderr",
     "output_type": "stream",
     "text": [
      "/Users/jiangchaodi/anaconda/lib/python3.6/site-packages/h5py/__init__.py:34: FutureWarning: Conversion of the second argument of issubdtype from `float` to `np.floating` is deprecated. In future, it will be treated as `np.float64 == np.dtype(float).type`.\n",
      "  from ._conv import register_converters as _register_converters\n",
      "Using TensorFlow backend.\n"
     ]
    },
    {
     "name": "stdout",
     "output_type": "stream",
     "text": [
      "Epoch 1/20\n",
      "10/10 [==============================] - 0s 44ms/step - loss: 0.4704 - val_loss: 0.4902\n",
      "Epoch 2/20\n",
      "10/10 [==============================] - 0s 3ms/step - loss: 0.4068 - val_loss: 0.4769\n",
      "Epoch 3/20\n",
      "10/10 [==============================] - 0s 4ms/step - loss: 0.4084 - val_loss: 0.4556\n",
      "Epoch 4/20\n",
      "10/10 [==============================] - 0s 4ms/step - loss: 0.3768 - val_loss: 0.3868\n",
      "Epoch 5/20\n",
      "10/10 [==============================] - 0s 4ms/step - loss: 0.3855 - val_loss: 0.3741\n",
      "Epoch 6/20\n",
      "10/10 [==============================] - 0s 4ms/step - loss: 0.3709 - val_loss: 0.3829\n",
      "Epoch 7/20\n",
      "10/10 [==============================] - ETA: 0s - loss: 0.366 - 0s 4ms/step - loss: 0.2585 - val_loss: 0.4197\n",
      "Epoch 8/20\n",
      "10/10 [==============================] - 0s 3ms/step - loss: 0.3112 - val_loss: 0.3583\n",
      "Epoch 9/20\n",
      "10/10 [==============================] - 0s 4ms/step - loss: 0.2822 - val_loss: 0.4404\n",
      "Epoch 10/20\n",
      "10/10 [==============================] - 0s 3ms/step - loss: 0.3116 - val_loss: 0.3789\n",
      "Epoch 11/20\n",
      "10/10 [==============================] - 0s 3ms/step - loss: 0.2646 - val_loss: 0.3408\n",
      "Epoch 12/20\n",
      "10/10 [==============================] - 0s 4ms/step - loss: 0.2540 - val_loss: 0.3615\n",
      "Epoch 13/20\n",
      "10/10 [==============================] - 0s 4ms/step - loss: 0.2617 - val_loss: 0.3183\n",
      "Epoch 14/20\n",
      "10/10 [==============================] - 0s 4ms/step - loss: 0.3215 - val_loss: 0.3120\n",
      "Epoch 15/20\n",
      "10/10 [==============================] - 0s 4ms/step - loss: 0.3258 - val_loss: 0.2907\n",
      "Epoch 16/20\n",
      "10/10 [==============================] - 0s 5ms/step - loss: 0.2732 - val_loss: 0.2919\n",
      "Epoch 17/20\n",
      "10/10 [==============================] - 0s 4ms/step - loss: 0.2556 - val_loss: 0.3803\n",
      "Epoch 18/20\n",
      "10/10 [==============================] - 0s 4ms/step - loss: 0.2829 - val_loss: 0.4971\n",
      "Epoch 19/20\n",
      "10/10 [==============================] - 0s 4ms/step - loss: 0.2409 - val_loss: 0.4023\n",
      "Epoch 20/20\n",
      "10/10 [==============================] - 0s 4ms/step - loss: 0.2386 - val_loss: 0.2988\n"
     ]
    }
   ],
   "source": [
    "#basic machine learning base line\n",
    "from keras.models import Sequential\n",
    "from keras import layers\n",
    "from keras.optimizers import Nadam\n",
    "\n",
    "model_mlp = Sequential()\n",
    "model_mlp.add(layers.Flatten(input_shape=(lookback // step, float_data.shape[-1])))#input size:14*5\n",
    "model_mlp.add(layers.Dense(32, activation='relu'))\n",
    "model_mlp.add(layers.Dense(1))\n",
    "\n",
    "model_mlp.compile(optimizer=Nadam(), loss='mae') #使用adam的optimazir和绝对值误差作为lossfunction\n",
    "history = model_mlp.fit_generator(train_gen,\n",
    "                              steps_per_epoch=batch_size, \n",
    "                              epochs=20,\n",
    "                              validation_data=val_gen,\n",
    "                              validation_steps=val_steps)"
   ]
  },
  {
   "cell_type": "markdown",
   "metadata": {},
   "source": [
    "  下面用matplot来再现训练过程："
   ]
  },
  {
   "cell_type": "code",
   "execution_count": 10,
   "metadata": {
    "scrolled": true
   },
   "outputs": [
    {
     "data": {
      "image/png": "[encoded data removed]",
      "text/plain": [
       "<matplotlib.figure.Figure at 0x11dacc710>"
      ]
     },
     "metadata": {},
     "output_type": "display_data"
    }
   ],
   "source": [
    "import matplotlib.pyplot as plt\n",
    "\n",
    "loss = history.history['loss']\n",
    "val_loss = history.history['val_loss']\n",
    "\n",
    "history.history\n",
    "\n",
    "epochs = range(len(loss))\n",
    "\n",
    "plt.figure()\n",
    "\n",
    "plt.plot(epochs, loss, 'bo', label='Training loss')\n",
    "plt.plot(epochs, val_loss, 'b', label='Validation loss')\n",
    "plt.title('Training and validation loss')\n",
    "plt.legend()\n",
    "\n",
    "plt.show()"
   ]
  },
  {
   "cell_type": "markdown",
   "metadata": {},
   "source": [
    "   可以看到train_loss 和 validation_loss整体上同时都在下降，没有出现明显的过拟合的状况（Training_loss和validation_loss一个往下走，一个往上走），只是最后的validation_loss 要远高于我们的基线。"
   ]
  },
  {
   "cell_type": "markdown",
   "metadata": {},
   "source": [
    "## 4 训练模型（2）--RNN和dropout的应用"
   ]
  },
  {
   "cell_type": "code",
   "execution_count": 12,
   "metadata": {},
   "outputs": [
    {
     "name": "stdout",
     "output_type": "stream",
     "text": [
      "Epoch 1/20\n",
      "10/10 [==============================] - 1s 104ms/step - loss: 0.1988 - val_loss: 0.2329\n",
      "Epoch 2/20\n",
      "10/10 [==============================] - 0s 14ms/step - loss: 0.2203 - val_loss: 0.1995\n",
      "Epoch 3/20\n",
      "10/10 [==============================] - 0s 13ms/step - loss: 0.1844 - val_loss: 0.1836\n",
      "Epoch 4/20\n",
      "10/10 [==============================] - 0s 14ms/step - loss: 0.1998 - val_loss: 0.2559\n",
      "Epoch 5/20\n",
      "10/10 [==============================] - 0s 14ms/step - loss: 0.2107 - val_loss: 0.2039\n",
      "Epoch 6/20\n",
      "10/10 [==============================] - 0s 14ms/step - loss: 0.1772 - val_loss: 0.2193\n",
      "Epoch 7/20\n",
      "10/10 [==============================] - 0s 13ms/step - loss: 0.2219 - val_loss: 0.2708\n",
      "Epoch 8/20\n",
      "10/10 [==============================] - 0s 14ms/step - loss: 0.2202 - val_loss: 0.2578\n",
      "Epoch 9/20\n",
      "10/10 [==============================] - 0s 14ms/step - loss: 0.1943 - val_loss: 0.2085\n",
      "Epoch 10/20\n",
      "10/10 [==============================] - 0s 17ms/step - loss: 0.1929 - val_loss: 0.2109\n",
      "Epoch 11/20\n",
      "10/10 [==============================] - 0s 15ms/step - loss: 0.2421 - val_loss: 0.2022\n",
      "Epoch 12/20\n",
      "10/10 [==============================] - 0s 16ms/step - loss: 0.1855 - val_loss: 0.2652\n",
      "Epoch 13/20\n",
      "10/10 [==============================] - 0s 16ms/step - loss: 0.1680 - val_loss: 0.3065\n",
      "Epoch 14/20\n",
      "10/10 [==============================] - 0s 15ms/step - loss: 0.1924 - val_loss: 0.2325\n",
      "Epoch 15/20\n",
      "10/10 [==============================] - 0s 17ms/step - loss: 0.1897 - val_loss: 0.2931\n",
      "Epoch 16/20\n",
      "10/10 [==============================] - 0s 15ms/step - loss: 0.2049 - val_loss: 0.2812\n",
      "Epoch 17/20\n",
      "10/10 [==============================] - 0s 17ms/step - loss: 0.1816 - val_loss: 0.2288\n",
      "Epoch 18/20\n",
      "10/10 [==============================] - 0s 15ms/step - loss: 0.1865 - val_loss: 0.2950\n",
      "Epoch 19/20\n",
      "10/10 [==============================] - 0s 17ms/step - loss: 0.1928 - val_loss: 0.2075\n",
      "Epoch 20/20\n",
      "10/10 [==============================] - 0s 15ms/step - loss: 0.1901 - val_loss: 0.2847\n"
     ]
    }
   ],
   "source": [
    "#base rnn base line\n",
    "from keras.models import Sequential\n",
    "from keras import layers\n",
    "from keras.optimizers import Nadam\n",
    "\n",
    "model_rnn = Sequential()\n",
    "model_rnn.add(layers.GRU(32, input_shape=(None, float_data.shape[-1]))) #使用GRU作为门控，门控的其中一个\n",
    "#重要作用是防止梯度衰减\n",
    "model_rnn.add(layers.Dense(1))\n",
    "\n",
    "model_rnn.compile(optimizer=Nadam(), loss='mae')\n",
    "history = model_rnn.fit_generator(train_gen,\n",
    "                              steps_per_epoch=batch_size,\n",
    "                              epochs=20,\n",
    "                              validation_data=val_gen,\n",
    "                              validation_steps=val_steps)"
   ]
  },
  {
   "cell_type": "markdown",
   "metadata": {},
   "source": [
    "  matplot再现训练过程："
   ]
  },
  {
   "cell_type": "code",
   "execution_count": 13,
   "metadata": {},
   "outputs": [
    {
     "data": {
      "image/png": "[encoded data removed]",
      "text/plain": [
       "<matplotlib.figure.Figure at 0x11e615208>"
      ]
     },
     "metadata": {},
     "output_type": "display_data"
    }
   ],
   "source": [
    "loss = history.history['loss']\n",
    "val_loss = history.history['val_loss']\n",
    "\n",
    "epochs = range(len(loss))\n",
    "\n",
    "plt.figure()\n",
    "\n",
    "plt.plot(epochs, loss, 'bo', label='Training loss')\n",
    "plt.plot(epochs, val_loss, 'b', label='Validation loss')\n",
    "plt.title('Training and validation loss')\n",
    "plt.legend()\n",
    "\n",
    "plt.show()"
   ]
  },
  {
   "cell_type": "markdown",
   "metadata": {},
   "source": [
    "  可以看到我们RNN模型的训练效果非常不好，出现了过拟合，且误差波幅大，在此基础上我们试着加上dropout"
   ]
  },
  {
   "cell_type": "code",
   "execution_count": 14,
   "metadata": {},
   "outputs": [
    {
     "name": "stdout",
     "output_type": "stream",
     "text": [
      "Epoch 1/20\n",
      "10/10 [==============================] - 1s 120ms/step - loss: 0.6581 - val_loss: 0.5146\n",
      "Epoch 2/20\n",
      "10/10 [==============================] - 0s 16ms/step - loss: 0.3345 - val_loss: 0.2230\n",
      "Epoch 3/20\n",
      "10/10 [==============================] - 0s 16ms/step - loss: 0.2491 - val_loss: 0.2086\n",
      "Epoch 4/20\n",
      "10/10 [==============================] - 0s 18ms/step - loss: 0.2399 - val_loss: 0.2084\n",
      "Epoch 5/20\n",
      "10/10 [==============================] - 0s 18ms/step - loss: 0.2447 - val_loss: 0.2035\n",
      "Epoch 6/20\n",
      "10/10 [==============================] - 0s 15ms/step - loss: 0.2583 - val_loss: 0.1875\n",
      "Epoch 7/20\n",
      "10/10 [==============================] - 0s 15ms/step - loss: 0.2829 - val_loss: 0.2045\n",
      "Epoch 8/20\n",
      "10/10 [==============================] - 0s 15ms/step - loss: 0.2585 - val_loss: 0.1973\n",
      "Epoch 9/20\n",
      "10/10 [==============================] - 0s 16ms/step - loss: 0.2319 - val_loss: 0.1799\n",
      "Epoch 10/20\n",
      "10/10 [==============================] - 0s 16ms/step - loss: 0.2163 - val_loss: 0.2047\n",
      "Epoch 11/20\n",
      "10/10 [==============================] - 0s 15ms/step - loss: 0.2096 - val_loss: 0.2205\n",
      "Epoch 12/20\n",
      "10/10 [==============================] - 0s 15ms/step - loss: 0.2340 - val_loss: 0.1759\n",
      "Epoch 13/20\n",
      "10/10 [==============================] - 0s 15ms/step - loss: 0.2106 - val_loss: 0.1915\n",
      "Epoch 14/20\n",
      "10/10 [==============================] - 0s 15ms/step - loss: 0.2229 - val_loss: 0.1746\n",
      "Epoch 15/20\n",
      "10/10 [==============================] - 0s 15ms/step - loss: 0.1953 - val_loss: 0.2114\n",
      "Epoch 16/20\n",
      "10/10 [==============================] - 0s 15ms/step - loss: 0.2108 - val_loss: 0.1772\n",
      "Epoch 17/20\n",
      "10/10 [==============================] - 0s 15ms/step - loss: 0.2079 - val_loss: 0.1940\n",
      "Epoch 18/20\n",
      "10/10 [==============================] - 0s 15ms/step - loss: 0.2069 - val_loss: 0.2103\n",
      "Epoch 19/20\n",
      "10/10 [==============================] - 0s 20ms/step - loss: 0.2482 - val_loss: 0.2267\n",
      "Epoch 20/20\n",
      "10/10 [==============================] - 0s 20ms/step - loss: 0.1904 - val_loss: 0.1811\n"
     ]
    }
   ],
   "source": [
    "#use drop out to overcome over fiiting\n",
    "from keras.models import Sequential\n",
    "from keras import layers\n",
    "from keras.optimizers import Nadam\n",
    "\n",
    "model_dropout = Sequential()\n",
    "model_dropout.add(layers.GRU(32,\n",
    "                     dropout=0.1, #dropout for input data\n",
    "                     recurrent_dropout=0.1, #drop out for recurrent unit\n",
    "                     input_shape=(None, float_data.shape[-1])))\n",
    "model_dropout.add(layers.Dense(1))\n",
    "\n",
    "model_dropout.compile(optimizer=Nadam(), loss='mae')\n",
    "history = model_dropout.fit_generator(train_gen,\n",
    "                              steps_per_epoch=batch_size,\n",
    "                              epochs=20,\n",
    "                              validation_data=val_gen,\n",
    "                              validation_steps=val_steps)"
   ]
  },
  {
   "cell_type": "code",
   "execution_count": 15,
   "metadata": {},
   "outputs": [
    {
     "data": {
      "image/png": "[encoded data removed]",
      "text/plain": [
       "<matplotlib.figure.Figure at 0x11f8eed68>"
      ]
     },
     "metadata": {},
     "output_type": "display_data"
    }
   ],
   "source": [
    "loss = history.history['loss']\n",
    "val_loss = history.history['val_loss']\n",
    "\n",
    "epochs = range(len(loss))\n",
    "\n",
    "plt.figure()\n",
    "\n",
    "plt.plot(epochs, loss, 'bo', label='Training loss')\n",
    "plt.plot(epochs, val_loss, 'b', label='Validation loss')\n",
    "plt.title('Training and validation loss')\n",
    "plt.legend()\n",
    "\n",
    "plt.show()"
   ]
  },
  {
   "cell_type": "markdown",
   "metadata": {},
   "source": [
    "可以看到在加入了drop_out项之后整个模型的表现大幅提升。"
   ]
  },
  {
   "cell_type": "markdown",
   "metadata": {},
   "source": [
    "## 5 多层RNN和双向RNN"
   ]
  },
  {
   "cell_type": "markdown",
   "metadata": {},
   "source": [
    "  上面的单层RNN的hidden layer参数只和上一个时刻的hidden layor的参数呈线性关系。而多层RNN的hidden layer\n",
    " 中的参数不仅和同一层RNN的上一时刻相关,也和同一时刻的上一层RNN相关。"
   ]
  },
  {
   "cell_type": "code",
   "execution_count": 16,
   "metadata": {},
   "outputs": [
    {
     "name": "stdout",
     "output_type": "stream",
     "text": [
      "Epoch 1/20\n",
      "10/10 [==============================] - 3s 254ms/step - loss: 0.5502 - val_loss: 0.3329\n",
      "Epoch 2/20\n",
      "10/10 [==============================] - 0s 28ms/step - loss: 0.3463 - val_loss: 0.2671\n",
      "Epoch 3/20\n",
      "10/10 [==============================] - 0s 27ms/step - loss: 0.3084 - val_loss: 0.2441\n",
      "Epoch 4/20\n",
      "10/10 [==============================] - 0s 27ms/step - loss: 0.3452 - val_loss: 0.2151\n",
      "Epoch 5/20\n",
      "10/10 [==============================] - 0s 27ms/step - loss: 0.2505 - val_loss: 0.3403\n",
      "Epoch 6/20\n",
      "10/10 [==============================] - 0s 27ms/step - loss: 0.2679 - val_loss: 0.2426\n",
      "Epoch 7/20\n",
      "10/10 [==============================] - 0s 27ms/step - loss: 0.2949 - val_loss: 0.3174\n",
      "Epoch 8/20\n",
      "10/10 [==============================] - 0s 33ms/step - loss: 0.2690 - val_loss: 0.2844\n",
      "Epoch 9/20\n",
      "10/10 [==============================] - 0s 33ms/step - loss: 0.2396 - val_loss: 0.2900\n",
      "Epoch 10/20\n",
      "10/10 [==============================] - 0s 31ms/step - loss: 0.2837 - val_loss: 0.3391\n",
      "Epoch 11/20\n",
      "10/10 [==============================] - 0s 25ms/step - loss: 0.3078 - val_loss: 0.2672\n",
      "Epoch 12/20\n",
      "10/10 [==============================] - 0s 26ms/step - loss: 0.2479 - val_loss: 0.2525\n",
      "Epoch 13/20\n",
      "10/10 [==============================] - 0s 28ms/step - loss: 0.2927 - val_loss: 0.2223\n",
      "Epoch 14/20\n",
      "10/10 [==============================] - 0s 28ms/step - loss: 0.2156 - val_loss: 0.2075\n",
      "Epoch 15/20\n",
      "10/10 [==============================] - 0s 34ms/step - loss: 0.2284 - val_loss: 0.2471\n",
      "Epoch 16/20\n",
      "10/10 [==============================] - 0s 31ms/step - loss: 0.2759 - val_loss: 0.2851\n",
      "Epoch 17/20\n",
      "10/10 [==============================] - 0s 30ms/step - loss: 0.2454 - val_loss: 0.2358\n",
      "Epoch 18/20\n",
      "10/10 [==============================] - 0s 27ms/step - loss: 0.2133 - val_loss: 0.3144\n",
      "Epoch 19/20\n",
      "10/10 [==============================] - 0s 27ms/step - loss: 0.2831 - val_loss: 0.2646\n",
      "Epoch 20/20\n",
      "10/10 [==============================] - 0s 29ms/step - loss: 0.2311 - val_loss: 0.2918\n"
     ]
    }
   ],
   "source": [
    "from keras.models import Sequential\n",
    "from keras import layers\n",
    "from keras.optimizers import Nadam\n",
    "\n",
    "model_multi = Sequential()\n",
    "model_multi.add(layers.GRU(32,\n",
    "                     dropout=0.1,\n",
    "                     recurrent_dropout=0.3,\n",
    "                     return_sequences=True,\n",
    "                     input_shape=(None, float_data.shape[-1])))\n",
    "model_multi.add(layers.GRU(64, activation='relu',\n",
    "                     dropout=0.1, \n",
    "                     recurrent_dropout=0.3))\n",
    "model_multi.add(layers.Dense(1))\n",
    "\n",
    "model_multi.compile(optimizer=Nadam(), loss='mae')\n",
    "history = model_multi.fit_generator(train_gen,\n",
    "                              steps_per_epoch=batch_size,\n",
    "                              epochs=20,\n",
    "                              validation_data=val_gen,\n",
    "                              validation_steps=val_steps)"
   ]
  },
  {
   "cell_type": "code",
   "execution_count": 17,
   "metadata": {
    "scrolled": true
   },
   "outputs": [
    {
     "data": {
      "image/png": "[encoded data removed]",
      "text/plain": [
       "<matplotlib.figure.Figure at 0x120ecfdd8>"
      ]
     },
     "metadata": {},
     "output_type": "display_data"
    }
   ],
   "source": [
    "loss = history.history['loss']\n",
    "val_loss = history.history['val_loss']\n",
    "\n",
    "epochs = range(len(loss))\n",
    "\n",
    "plt.figure()\n",
    "\n",
    "plt.plot(epochs, loss, 'bo', label='Training loss')\n",
    "plt.plot(epochs, val_loss, 'b', label='Validation loss')\n",
    "plt.title('Training and validation loss')\n",
    "plt.legend()\n",
    "\n",
    "plt.show()"
   ]
  },
  {
   "cell_type": "markdown",
   "metadata": {},
   "source": [
    "  我们使用了多层RNN来进行训练，模型表现反而更差了，下面我们将使用双向RNN来训练模型。"
   ]
  },
  {
   "cell_type": "code",
   "execution_count": 18,
   "metadata": {},
   "outputs": [
    {
     "name": "stdout",
     "output_type": "stream",
     "text": [
      "Epoch 1/20\n",
      "10/10 [==============================] - 2s 190ms/step - loss: 0.6630 - val_loss: 0.4470\n",
      "Epoch 2/20\n",
      "10/10 [==============================] - 0s 15ms/step - loss: 0.3253 - val_loss: 0.2726\n",
      "Epoch 3/20\n",
      "10/10 [==============================] - 0s 15ms/step - loss: 0.2323 - val_loss: 0.2269\n",
      "Epoch 4/20\n",
      "10/10 [==============================] - 0s 15ms/step - loss: 0.2665 - val_loss: 0.2437\n",
      "Epoch 5/20\n",
      "10/10 [==============================] - 0s 15ms/step - loss: 0.2421 - val_loss: 0.2214\n",
      "Epoch 6/20\n",
      "10/10 [==============================] - 0s 15ms/step - loss: 0.2360 - val_loss: 0.2069\n",
      "Epoch 7/20\n",
      "10/10 [==============================] - 0s 15ms/step - loss: 0.2475 - val_loss: 0.3579\n",
      "Epoch 8/20\n",
      "10/10 [==============================] - 0s 19ms/step - loss: 0.2731 - val_loss: 0.2634\n",
      "Epoch 9/20\n",
      "10/10 [==============================] - 0s 20ms/step - loss: 0.2124 - val_loss: 0.2209\n",
      "Epoch 10/20\n",
      "10/10 [==============================] - 0s 20ms/step - loss: 0.2040 - val_loss: 0.2290\n",
      "Epoch 11/20\n",
      "10/10 [==============================] - 0s 16ms/step - loss: 0.2160 - val_loss: 0.2231\n",
      "Epoch 12/20\n",
      "10/10 [==============================] - 0s 14ms/step - loss: 0.1905 - val_loss: 0.2289\n",
      "Epoch 13/20\n",
      "10/10 [==============================] - 0s 14ms/step - loss: 0.2084 - val_loss: 0.2485\n",
      "Epoch 14/20\n",
      "10/10 [==============================] - 0s 15ms/step - loss: 0.2235 - val_loss: 0.2383\n",
      "Epoch 15/20\n",
      "10/10 [==============================] - 0s 16ms/step - loss: 0.1980 - val_loss: 0.1971\n",
      "Epoch 16/20\n",
      "10/10 [==============================] - 0s 17ms/step - loss: 0.2119 - val_loss: 0.1859\n",
      "Epoch 17/20\n",
      "10/10 [==============================] - 0s 15ms/step - loss: 0.2160 - val_loss: 0.1911\n",
      "Epoch 18/20\n",
      "10/10 [==============================] - 0s 16ms/step - loss: 0.1942 - val_loss: 0.2168\n",
      "Epoch 19/20\n",
      "10/10 [==============================] - 0s 15ms/step - loss: 0.2125 - val_loss: 0.2136\n",
      "Epoch 20/20\n",
      "10/10 [==============================] - 0s 14ms/step - loss: 0.2297 - val_loss: 0.1987\n"
     ]
    }
   ],
   "source": [
    "#use drop out to overcome over fiiting\n",
    "from keras.models import Sequential\n",
    "from keras import layers\n",
    "from keras.optimizers import Nadam\n",
    "\n",
    "model_bi = Sequential()\n",
    "model_bi.add(layers.Bidirectional(layers.GRU(32),\n",
    "                     input_shape=(None, float_data.shape[-1])))\n",
    "model_bi.add(layers.Dense(1))\n",
    "\n",
    "model_bi.compile(optimizer=Nadam(), loss='mae')\n",
    "history = model_bi.fit_generator(train_gen,\n",
    "                              steps_per_epoch=batch_size,\n",
    "                              epochs=20,\n",
    "                              validation_data=val_gen,\n",
    "                              validation_steps=val_steps)"
   ]
  },
  {
   "cell_type": "code",
   "execution_count": 19,
   "metadata": {},
   "outputs": [
    {
     "data": {
      "image/png": "[encoded data removed]",
      "text/plain": [
       "<matplotlib.figure.Figure at 0x1247a9eb8>"
      ]
     },
     "metadata": {},
     "output_type": "display_data"
    }
   ],
   "source": [
    "loss = history.history['loss']\n",
    "val_loss = history.history['val_loss']\n",
    "\n",
    "epochs = range(len(loss))\n",
    "\n",
    "plt.figure()\n",
    "\n",
    "plt.plot(epochs, loss, 'bo', label='Training loss')\n",
    "plt.plot(epochs, val_loss, 'b', label='Validation loss')\n",
    "plt.title('Training and validation loss')\n",
    "plt.legend()\n",
    "\n",
    "plt.show()"
   ]
  },
  {
   "cell_type": "markdown",
   "metadata": {},
   "source": [
    "  双向RNN的vladation loss的表现还不错，但略逊于是用来drop_out的RNN。需要注意的是，我们的input data都经过\n",
    " 标准化处理，所以真实误差还需要乘以原来的标准差。"
   ]
  },
  {
   "cell_type": "code",
   "execution_count": 20,
   "metadata": {},
   "outputs": [
    {
     "data": {
      "text/plain": [
       "0.18138520718855444"
      ]
     },
     "execution_count": 20,
     "metadata": {},
     "output_type": "execute_result"
    }
   ],
   "source": [
    "#以双向RNN的最后的val_loss为例\n",
    "0.1987 * sd_data[0]  #这才是真实误差"
   ]
  },
  {
   "cell_type": "markdown",
   "metadata": {},
   "source": [
    "## 6 用模型进行预测"
   ]
  },
  {
   "cell_type": "markdown",
   "metadata": {},
   "source": [
    " 基于进入模型的数据大小（14*5），我们选取原数据的最后14行并用表现最好的初始RNN来预测数据。"
   ]
  },
  {
   "cell_type": "code",
   "execution_count": 22,
   "metadata": {},
   "outputs": [],
   "source": [
    "inputdata = np.zeros((1,14,5))\n",
    "inputdata[0] = f[-14:]"
   ]
  },
  {
   "cell_type": "code",
   "execution_count": 23,
   "metadata": {},
   "outputs": [],
   "source": [
    "#使用表现做好的模型进行预测\n",
    "prediction = model_dropout.predict(inputdata)"
   ]
  },
  {
   "cell_type": "code",
   "execution_count": 24,
   "metadata": {},
   "outputs": [
    {
     "data": {
      "text/plain": [
       "array([[12.743471]], dtype=float32)"
      ]
     },
     "execution_count": 24,
     "metadata": {},
     "output_type": "execute_result"
    }
   ],
   "source": [
    "prediction = prediction*sd_data[0]+mean_data[0]\n",
    "prediction"
   ]
  },
  {
   "cell_type": "code",
   "execution_count": 28,
   "metadata": {},
   "outputs": [
    {
     "name": "stdout",
     "output_type": "stream",
     "text": [
      "1y\n"
     ]
    }
   ],
   "source": [
    "#\n",
    "start = datetime.datetime(2017,5,24)\n",
    "end = datetime.datetime(2017,5,25)\n",
    "new = pdr.DataReader('F', 'iex', start, end)"
   ]
  },
  {
   "cell_type": "code",
   "execution_count": 29,
   "metadata": {},
   "outputs": [
    {
     "data": {
      "text/plain": [
       "date\n",
       "2017-05-24    10.5281\n",
       "2017-05-25    10.4329\n",
       "Name: open, dtype: float64"
      ]
     },
     "execution_count": 29,
     "metadata": {},
     "output_type": "execute_result"
    }
   ],
   "source": [
    "new.loc[:,'open']"
   ]
  },
  {
   "cell_type": "markdown",
   "metadata": {},
   "source": [
    "  基于我们的模型得到的预测是12.74，然而2017年5月25日的真实指数为10.43，考虑到标准差小于1，可以说这个预测还是比较糟糕的。"
   ]
  },
  {
   "cell_type": "code",
   "execution_count": null,
   "metadata": {
    "collapsed": true
   },
   "outputs": [],
   "source": []
  }
 ],
 "metadata": {
  "kernelspec": {
   "display_name": "Python 3",
   "language": "python",
   "name": "python3"
  },
  "language_info": {
   "codemirror_mode": {
    "name": "ipython",
    "version": 3
   },
   "file_extension": ".py",
   "mimetype": "text/x-python",
   "name": "python",
   "nbconvert_exporter": "python",
   "pygments_lexer": "ipython3",
   "version": "3.6.1"
  }
 },
 "nbformat": 4,
 "nbformat_minor": 2
}
